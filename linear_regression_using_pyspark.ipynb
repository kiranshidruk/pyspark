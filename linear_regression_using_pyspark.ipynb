{
  "nbformat": 4,
  "nbformat_minor": 0,
  "metadata": {
    "colab": {
      "provenance": []
    },
    "kernelspec": {
      "name": "python3",
      "display_name": "Python 3"
    },
    "language_info": {
      "name": "python"
    }
  },
  "cells": [
    {
      "cell_type": "code",
      "execution_count": 2,
      "metadata": {
        "id": "gRLoNSmk_XkL"
      },
      "outputs": [],
      "source": [
        "from pyspark.sql import SparkSession\n",
        "spark = SparkSession.builder.appName('Practise').getOrCreate()"
      ]
    },
    {
      "cell_type": "code",
      "source": [
        "df =spark.read.csv('tips.csv',header=True,inferSchema=True)\n",
        "df.show()"
      ],
      "metadata": {
        "colab": {
          "base_uri": "https://localhost:8080/"
        },
        "id": "x6tT4b_j_rcG",
        "outputId": "04badb5b-6919-4c81-ec12-339981461c5e"
      },
      "execution_count": 3,
      "outputs": [
        {
          "output_type": "stream",
          "name": "stdout",
          "text": [
            "+----------+----+------+------+---+------+----+\n",
            "|total_bill| tip|   sex|smoker|day|  time|size|\n",
            "+----------+----+------+------+---+------+----+\n",
            "|     16.99|1.01|Female|    No|Sun|Dinner|   2|\n",
            "|     10.34|1.66|  Male|    No|Sun|Dinner|   3|\n",
            "|     21.01| 3.5|  Male|    No|Sun|Dinner|   3|\n",
            "|     23.68|3.31|  Male|    No|Sun|Dinner|   2|\n",
            "|     24.59|3.61|Female|    No|Sun|Dinner|   4|\n",
            "|     25.29|4.71|  Male|    No|Sun|Dinner|   4|\n",
            "|      8.77| 2.0|  Male|    No|Sun|Dinner|   2|\n",
            "|     26.88|3.12|  Male|    No|Sun|Dinner|   4|\n",
            "|     15.04|1.96|  Male|    No|Sun|Dinner|   2|\n",
            "|     14.78|3.23|  Male|    No|Sun|Dinner|   2|\n",
            "|     10.27|1.71|  Male|    No|Sun|Dinner|   2|\n",
            "|     35.26| 5.0|Female|    No|Sun|Dinner|   4|\n",
            "|     15.42|1.57|  Male|    No|Sun|Dinner|   2|\n",
            "|     18.43| 3.0|  Male|    No|Sun|Dinner|   4|\n",
            "|     14.83|3.02|Female|    No|Sun|Dinner|   2|\n",
            "|     21.58|3.92|  Male|    No|Sun|Dinner|   2|\n",
            "|     10.33|1.67|Female|    No|Sun|Dinner|   3|\n",
            "|     16.29|3.71|  Male|    No|Sun|Dinner|   3|\n",
            "|     16.97| 3.5|Female|    No|Sun|Dinner|   3|\n",
            "|     20.65|3.35|  Male|    No|Sat|Dinner|   3|\n",
            "+----------+----+------+------+---+------+----+\n",
            "only showing top 20 rows\n",
            "\n"
          ]
        }
      ]
    },
    {
      "cell_type": "code",
      "source": [
        "df.printSchema()"
      ],
      "metadata": {
        "colab": {
          "base_uri": "https://localhost:8080/"
        },
        "id": "9TwFJcW5AE-d",
        "outputId": "5831945b-7f98-4957-ee57-0743c35aec49"
      },
      "execution_count": 4,
      "outputs": [
        {
          "output_type": "stream",
          "name": "stdout",
          "text": [
            "root\n",
            " |-- total_bill: double (nullable = true)\n",
            " |-- tip: double (nullable = true)\n",
            " |-- sex: string (nullable = true)\n",
            " |-- smoker: string (nullable = true)\n",
            " |-- day: string (nullable = true)\n",
            " |-- time: string (nullable = true)\n",
            " |-- size: integer (nullable = true)\n",
            "\n"
          ]
        }
      ]
    },
    {
      "cell_type": "code",
      "source": [
        "df.columns"
      ],
      "metadata": {
        "colab": {
          "base_uri": "https://localhost:8080/"
        },
        "id": "_wmOrcn3ALZZ",
        "outputId": "a251f3c6-458a-400b-caa7-3471a6f2ed63"
      },
      "execution_count": 6,
      "outputs": [
        {
          "output_type": "execute_result",
          "data": {
            "text/plain": [
              "['total_bill', 'tip', 'sex', 'smoker', 'day', 'time', 'size']"
            ]
          },
          "metadata": {},
          "execution_count": 6
        }
      ]
    },
    {
      "cell_type": "code",
      "source": [
        "\n",
        "### Handling Categorical Features\n",
        "from pyspark.ml.feature import StringIndexer"
      ],
      "metadata": {
        "id": "XzA4I6HhANPT"
      },
      "execution_count": 7,
      "outputs": []
    },
    {
      "cell_type": "code",
      "source": [
        "df.show()"
      ],
      "metadata": {
        "colab": {
          "base_uri": "https://localhost:8080/"
        },
        "id": "4UFUxBlLASWX",
        "outputId": "db6064ce-d0ba-4a4a-969f-3e0fd76cdfd7"
      },
      "execution_count": 8,
      "outputs": [
        {
          "output_type": "stream",
          "name": "stdout",
          "text": [
            "+----------+----+------+------+---+------+----+\n",
            "|total_bill| tip|   sex|smoker|day|  time|size|\n",
            "+----------+----+------+------+---+------+----+\n",
            "|     16.99|1.01|Female|    No|Sun|Dinner|   2|\n",
            "|     10.34|1.66|  Male|    No|Sun|Dinner|   3|\n",
            "|     21.01| 3.5|  Male|    No|Sun|Dinner|   3|\n",
            "|     23.68|3.31|  Male|    No|Sun|Dinner|   2|\n",
            "|     24.59|3.61|Female|    No|Sun|Dinner|   4|\n",
            "|     25.29|4.71|  Male|    No|Sun|Dinner|   4|\n",
            "|      8.77| 2.0|  Male|    No|Sun|Dinner|   2|\n",
            "|     26.88|3.12|  Male|    No|Sun|Dinner|   4|\n",
            "|     15.04|1.96|  Male|    No|Sun|Dinner|   2|\n",
            "|     14.78|3.23|  Male|    No|Sun|Dinner|   2|\n",
            "|     10.27|1.71|  Male|    No|Sun|Dinner|   2|\n",
            "|     35.26| 5.0|Female|    No|Sun|Dinner|   4|\n",
            "|     15.42|1.57|  Male|    No|Sun|Dinner|   2|\n",
            "|     18.43| 3.0|  Male|    No|Sun|Dinner|   4|\n",
            "|     14.83|3.02|Female|    No|Sun|Dinner|   2|\n",
            "|     21.58|3.92|  Male|    No|Sun|Dinner|   2|\n",
            "|     10.33|1.67|Female|    No|Sun|Dinner|   3|\n",
            "|     16.29|3.71|  Male|    No|Sun|Dinner|   3|\n",
            "|     16.97| 3.5|Female|    No|Sun|Dinner|   3|\n",
            "|     20.65|3.35|  Male|    No|Sat|Dinner|   3|\n",
            "+----------+----+------+------+---+------+----+\n",
            "only showing top 20 rows\n",
            "\n"
          ]
        }
      ]
    },
    {
      "cell_type": "code",
      "source": [
        "indexer=StringIndexer(inputCol=\"sex\",outputCol=\"sex_indexed\")\n",
        "df_r=indexer.fit(df).transform(df)\n",
        "df_r.show()"
      ],
      "metadata": {
        "colab": {
          "base_uri": "https://localhost:8080/"
        },
        "id": "BuEEM_TPAUbw",
        "outputId": "12220661-dee3-4a45-b510-0528d5e70b97"
      },
      "execution_count": 9,
      "outputs": [
        {
          "output_type": "stream",
          "name": "stdout",
          "text": [
            "+----------+----+------+------+---+------+----+-----------+\n",
            "|total_bill| tip|   sex|smoker|day|  time|size|sex_indexed|\n",
            "+----------+----+------+------+---+------+----+-----------+\n",
            "|     16.99|1.01|Female|    No|Sun|Dinner|   2|        1.0|\n",
            "|     10.34|1.66|  Male|    No|Sun|Dinner|   3|        0.0|\n",
            "|     21.01| 3.5|  Male|    No|Sun|Dinner|   3|        0.0|\n",
            "|     23.68|3.31|  Male|    No|Sun|Dinner|   2|        0.0|\n",
            "|     24.59|3.61|Female|    No|Sun|Dinner|   4|        1.0|\n",
            "|     25.29|4.71|  Male|    No|Sun|Dinner|   4|        0.0|\n",
            "|      8.77| 2.0|  Male|    No|Sun|Dinner|   2|        0.0|\n",
            "|     26.88|3.12|  Male|    No|Sun|Dinner|   4|        0.0|\n",
            "|     15.04|1.96|  Male|    No|Sun|Dinner|   2|        0.0|\n",
            "|     14.78|3.23|  Male|    No|Sun|Dinner|   2|        0.0|\n",
            "|     10.27|1.71|  Male|    No|Sun|Dinner|   2|        0.0|\n",
            "|     35.26| 5.0|Female|    No|Sun|Dinner|   4|        1.0|\n",
            "|     15.42|1.57|  Male|    No|Sun|Dinner|   2|        0.0|\n",
            "|     18.43| 3.0|  Male|    No|Sun|Dinner|   4|        0.0|\n",
            "|     14.83|3.02|Female|    No|Sun|Dinner|   2|        1.0|\n",
            "|     21.58|3.92|  Male|    No|Sun|Dinner|   2|        0.0|\n",
            "|     10.33|1.67|Female|    No|Sun|Dinner|   3|        1.0|\n",
            "|     16.29|3.71|  Male|    No|Sun|Dinner|   3|        0.0|\n",
            "|     16.97| 3.5|Female|    No|Sun|Dinner|   3|        1.0|\n",
            "|     20.65|3.35|  Male|    No|Sat|Dinner|   3|        0.0|\n",
            "+----------+----+------+------+---+------+----+-----------+\n",
            "only showing top 20 rows\n",
            "\n"
          ]
        }
      ]
    },
    {
      "cell_type": "code",
      "source": [
        "indexer=StringIndexer(inputCols=[\"smoker\",\"day\",\"time\"],outputCols=[\"smoker_indexed\",\"day_indexed\",\n",
        "                                                                  \"time_index\"])\n",
        "df_r=indexer.fit(df_r).transform(df_r)\n",
        "df_r.show()"
      ],
      "metadata": {
        "colab": {
          "base_uri": "https://localhost:8080/"
        },
        "id": "L7SoCDI6AXn3",
        "outputId": "548f9cf1-91d5-49ce-b12c-a59da1358a0e"
      },
      "execution_count": 10,
      "outputs": [
        {
          "output_type": "stream",
          "name": "stdout",
          "text": [
            "+----------+----+------+------+---+------+----+-----------+--------------+-----------+----------+\n",
            "|total_bill| tip|   sex|smoker|day|  time|size|sex_indexed|smoker_indexed|day_indexed|time_index|\n",
            "+----------+----+------+------+---+------+----+-----------+--------------+-----------+----------+\n",
            "|     16.99|1.01|Female|    No|Sun|Dinner|   2|        1.0|           0.0|        1.0|       0.0|\n",
            "|     10.34|1.66|  Male|    No|Sun|Dinner|   3|        0.0|           0.0|        1.0|       0.0|\n",
            "|     21.01| 3.5|  Male|    No|Sun|Dinner|   3|        0.0|           0.0|        1.0|       0.0|\n",
            "|     23.68|3.31|  Male|    No|Sun|Dinner|   2|        0.0|           0.0|        1.0|       0.0|\n",
            "|     24.59|3.61|Female|    No|Sun|Dinner|   4|        1.0|           0.0|        1.0|       0.0|\n",
            "|     25.29|4.71|  Male|    No|Sun|Dinner|   4|        0.0|           0.0|        1.0|       0.0|\n",
            "|      8.77| 2.0|  Male|    No|Sun|Dinner|   2|        0.0|           0.0|        1.0|       0.0|\n",
            "|     26.88|3.12|  Male|    No|Sun|Dinner|   4|        0.0|           0.0|        1.0|       0.0|\n",
            "|     15.04|1.96|  Male|    No|Sun|Dinner|   2|        0.0|           0.0|        1.0|       0.0|\n",
            "|     14.78|3.23|  Male|    No|Sun|Dinner|   2|        0.0|           0.0|        1.0|       0.0|\n",
            "|     10.27|1.71|  Male|    No|Sun|Dinner|   2|        0.0|           0.0|        1.0|       0.0|\n",
            "|     35.26| 5.0|Female|    No|Sun|Dinner|   4|        1.0|           0.0|        1.0|       0.0|\n",
            "|     15.42|1.57|  Male|    No|Sun|Dinner|   2|        0.0|           0.0|        1.0|       0.0|\n",
            "|     18.43| 3.0|  Male|    No|Sun|Dinner|   4|        0.0|           0.0|        1.0|       0.0|\n",
            "|     14.83|3.02|Female|    No|Sun|Dinner|   2|        1.0|           0.0|        1.0|       0.0|\n",
            "|     21.58|3.92|  Male|    No|Sun|Dinner|   2|        0.0|           0.0|        1.0|       0.0|\n",
            "|     10.33|1.67|Female|    No|Sun|Dinner|   3|        1.0|           0.0|        1.0|       0.0|\n",
            "|     16.29|3.71|  Male|    No|Sun|Dinner|   3|        0.0|           0.0|        1.0|       0.0|\n",
            "|     16.97| 3.5|Female|    No|Sun|Dinner|   3|        1.0|           0.0|        1.0|       0.0|\n",
            "|     20.65|3.35|  Male|    No|Sat|Dinner|   3|        0.0|           0.0|        0.0|       0.0|\n",
            "+----------+----+------+------+---+------+----+-----------+--------------+-----------+----------+\n",
            "only showing top 20 rows\n",
            "\n"
          ]
        }
      ]
    },
    {
      "cell_type": "code",
      "source": [
        "df_r.columns"
      ],
      "metadata": {
        "colab": {
          "base_uri": "https://localhost:8080/"
        },
        "id": "UcFC_AdgAfWX",
        "outputId": "e7971acd-1d43-4803-f528-2f1a4625b4a6"
      },
      "execution_count": 12,
      "outputs": [
        {
          "output_type": "execute_result",
          "data": {
            "text/plain": [
              "['total_bill',\n",
              " 'tip',\n",
              " 'sex',\n",
              " 'smoker',\n",
              " 'day',\n",
              " 'time',\n",
              " 'size',\n",
              " 'sex_indexed',\n",
              " 'smoker_indexed',\n",
              " 'day_indexed',\n",
              " 'time_index']"
            ]
          },
          "metadata": {},
          "execution_count": 12
        }
      ]
    },
    {
      "cell_type": "code",
      "source": [
        "# vector assembler --> s a crucial feature transformer\n",
        "# used to merge multiple columns into a single vector column,\n",
        "# which is often a required input format for many PySpark ML algorithms.\n",
        "\n",
        "from pyspark.ml.feature import VectorAssembler\n",
        "featureassembler=VectorAssembler(inputCols=['tip','size','sex_indexed','smoker_indexed','day_indexed',\n",
        "                          'time_index'],outputCol=\"Independent Features\")\n",
        "output=featureassembler.transform(df_r)"
      ],
      "metadata": {
        "id": "ePy1xKlMAlA-"
      },
      "execution_count": 13,
      "outputs": []
    },
    {
      "cell_type": "code",
      "source": [
        "output.select('Independent Features').show()"
      ],
      "metadata": {
        "colab": {
          "base_uri": "https://localhost:8080/"
        },
        "id": "rV-3rEtCA6xd",
        "outputId": "e2df295c-49aa-41e4-811f-a10e84b976b2"
      },
      "execution_count": 14,
      "outputs": [
        {
          "output_type": "stream",
          "name": "stdout",
          "text": [
            "+--------------------+\n",
            "|Independent Features|\n",
            "+--------------------+\n",
            "|[1.01,2.0,1.0,0.0...|\n",
            "|[1.66,3.0,0.0,0.0...|\n",
            "|[3.5,3.0,0.0,0.0,...|\n",
            "|[3.31,2.0,0.0,0.0...|\n",
            "|[3.61,4.0,1.0,0.0...|\n",
            "|[4.71,4.0,0.0,0.0...|\n",
            "|[2.0,2.0,0.0,0.0,...|\n",
            "|[3.12,4.0,0.0,0.0...|\n",
            "|[1.96,2.0,0.0,0.0...|\n",
            "|[3.23,2.0,0.0,0.0...|\n",
            "|[1.71,2.0,0.0,0.0...|\n",
            "|[5.0,4.0,1.0,0.0,...|\n",
            "|[1.57,2.0,0.0,0.0...|\n",
            "|[3.0,4.0,0.0,0.0,...|\n",
            "|[3.02,2.0,1.0,0.0...|\n",
            "|[3.92,2.0,0.0,0.0...|\n",
            "|[1.67,3.0,1.0,0.0...|\n",
            "|[3.71,3.0,0.0,0.0...|\n",
            "|[3.5,3.0,1.0,0.0,...|\n",
            "|(6,[0,1],[3.35,3.0])|\n",
            "+--------------------+\n",
            "only showing top 20 rows\n",
            "\n"
          ]
        }
      ]
    },
    {
      "cell_type": "code",
      "source": [
        "output.show()"
      ],
      "metadata": {
        "colab": {
          "base_uri": "https://localhost:8080/"
        },
        "id": "GCUfE0TFA9Ry",
        "outputId": "beb1e7a6-94d5-4c57-d5e1-128bb2cad0b1"
      },
      "execution_count": 16,
      "outputs": [
        {
          "output_type": "stream",
          "name": "stdout",
          "text": [
            "+----------+----+------+------+---+------+----+-----------+--------------+-----------+----------+--------------------+\n",
            "|total_bill| tip|   sex|smoker|day|  time|size|sex_indexed|smoker_indexed|day_indexed|time_index|Independent Features|\n",
            "+----------+----+------+------+---+------+----+-----------+--------------+-----------+----------+--------------------+\n",
            "|     16.99|1.01|Female|    No|Sun|Dinner|   2|        1.0|           0.0|        1.0|       0.0|[1.01,2.0,1.0,0.0...|\n",
            "|     10.34|1.66|  Male|    No|Sun|Dinner|   3|        0.0|           0.0|        1.0|       0.0|[1.66,3.0,0.0,0.0...|\n",
            "|     21.01| 3.5|  Male|    No|Sun|Dinner|   3|        0.0|           0.0|        1.0|       0.0|[3.5,3.0,0.0,0.0,...|\n",
            "|     23.68|3.31|  Male|    No|Sun|Dinner|   2|        0.0|           0.0|        1.0|       0.0|[3.31,2.0,0.0,0.0...|\n",
            "|     24.59|3.61|Female|    No|Sun|Dinner|   4|        1.0|           0.0|        1.0|       0.0|[3.61,4.0,1.0,0.0...|\n",
            "|     25.29|4.71|  Male|    No|Sun|Dinner|   4|        0.0|           0.0|        1.0|       0.0|[4.71,4.0,0.0,0.0...|\n",
            "|      8.77| 2.0|  Male|    No|Sun|Dinner|   2|        0.0|           0.0|        1.0|       0.0|[2.0,2.0,0.0,0.0,...|\n",
            "|     26.88|3.12|  Male|    No|Sun|Dinner|   4|        0.0|           0.0|        1.0|       0.0|[3.12,4.0,0.0,0.0...|\n",
            "|     15.04|1.96|  Male|    No|Sun|Dinner|   2|        0.0|           0.0|        1.0|       0.0|[1.96,2.0,0.0,0.0...|\n",
            "|     14.78|3.23|  Male|    No|Sun|Dinner|   2|        0.0|           0.0|        1.0|       0.0|[3.23,2.0,0.0,0.0...|\n",
            "|     10.27|1.71|  Male|    No|Sun|Dinner|   2|        0.0|           0.0|        1.0|       0.0|[1.71,2.0,0.0,0.0...|\n",
            "|     35.26| 5.0|Female|    No|Sun|Dinner|   4|        1.0|           0.0|        1.0|       0.0|[5.0,4.0,1.0,0.0,...|\n",
            "|     15.42|1.57|  Male|    No|Sun|Dinner|   2|        0.0|           0.0|        1.0|       0.0|[1.57,2.0,0.0,0.0...|\n",
            "|     18.43| 3.0|  Male|    No|Sun|Dinner|   4|        0.0|           0.0|        1.0|       0.0|[3.0,4.0,0.0,0.0,...|\n",
            "|     14.83|3.02|Female|    No|Sun|Dinner|   2|        1.0|           0.0|        1.0|       0.0|[3.02,2.0,1.0,0.0...|\n",
            "|     21.58|3.92|  Male|    No|Sun|Dinner|   2|        0.0|           0.0|        1.0|       0.0|[3.92,2.0,0.0,0.0...|\n",
            "|     10.33|1.67|Female|    No|Sun|Dinner|   3|        1.0|           0.0|        1.0|       0.0|[1.67,3.0,1.0,0.0...|\n",
            "|     16.29|3.71|  Male|    No|Sun|Dinner|   3|        0.0|           0.0|        1.0|       0.0|[3.71,3.0,0.0,0.0...|\n",
            "|     16.97| 3.5|Female|    No|Sun|Dinner|   3|        1.0|           0.0|        1.0|       0.0|[3.5,3.0,1.0,0.0,...|\n",
            "|     20.65|3.35|  Male|    No|Sat|Dinner|   3|        0.0|           0.0|        0.0|       0.0|(6,[0,1],[3.35,3.0])|\n",
            "+----------+----+------+------+---+------+----+-----------+--------------+-----------+----------+--------------------+\n",
            "only showing top 20 rows\n",
            "\n"
          ]
        }
      ]
    },
    {
      "cell_type": "code",
      "source": [
        "finalized_data=output.select(\"Independent Features\",\"total_bill\")"
      ],
      "metadata": {
        "id": "14e8q3gpBAt1"
      },
      "execution_count": 17,
      "outputs": []
    },
    {
      "cell_type": "code",
      "source": [
        "finalized_data.show()"
      ],
      "metadata": {
        "colab": {
          "base_uri": "https://localhost:8080/"
        },
        "id": "l139tbscBHTW",
        "outputId": "693552b6-0e4f-443a-a9cf-a91a1c62d427"
      },
      "execution_count": 18,
      "outputs": [
        {
          "output_type": "stream",
          "name": "stdout",
          "text": [
            "+--------------------+----------+\n",
            "|Independent Features|total_bill|\n",
            "+--------------------+----------+\n",
            "|[1.01,2.0,1.0,0.0...|     16.99|\n",
            "|[1.66,3.0,0.0,0.0...|     10.34|\n",
            "|[3.5,3.0,0.0,0.0,...|     21.01|\n",
            "|[3.31,2.0,0.0,0.0...|     23.68|\n",
            "|[3.61,4.0,1.0,0.0...|     24.59|\n",
            "|[4.71,4.0,0.0,0.0...|     25.29|\n",
            "|[2.0,2.0,0.0,0.0,...|      8.77|\n",
            "|[3.12,4.0,0.0,0.0...|     26.88|\n",
            "|[1.96,2.0,0.0,0.0...|     15.04|\n",
            "|[3.23,2.0,0.0,0.0...|     14.78|\n",
            "|[1.71,2.0,0.0,0.0...|     10.27|\n",
            "|[5.0,4.0,1.0,0.0,...|     35.26|\n",
            "|[1.57,2.0,0.0,0.0...|     15.42|\n",
            "|[3.0,4.0,0.0,0.0,...|     18.43|\n",
            "|[3.02,2.0,1.0,0.0...|     14.83|\n",
            "|[3.92,2.0,0.0,0.0...|     21.58|\n",
            "|[1.67,3.0,1.0,0.0...|     10.33|\n",
            "|[3.71,3.0,0.0,0.0...|     16.29|\n",
            "|[3.5,3.0,1.0,0.0,...|     16.97|\n",
            "|(6,[0,1],[3.35,3.0])|     20.65|\n",
            "+--------------------+----------+\n",
            "only showing top 20 rows\n",
            "\n"
          ]
        }
      ]
    },
    {
      "cell_type": "code",
      "source": [
        "\n",
        "from pyspark.ml.regression import LinearRegression\n",
        "##train test split\n",
        "train_data,test_data=finalized_data.randomSplit([0.70,0.30])\n",
        "# model building\n",
        "regressor=LinearRegression(featuresCol='Independent Features', labelCol='total_bill')\n",
        "regressor=regressor.fit(train_data)\n",
        ""
      ],
      "metadata": {
        "id": "-ZE0wxRmBKK9"
      },
      "execution_count": 19,
      "outputs": []
    },
    {
      "cell_type": "code",
      "source": [
        "regressor.coefficients"
      ],
      "metadata": {
        "colab": {
          "base_uri": "https://localhost:8080/"
        },
        "id": "xMqfun9DBPCi",
        "outputId": "50c77ad0-d0e7-4712-e757-e2c576e6dcd1"
      },
      "execution_count": 21,
      "outputs": [
        {
          "output_type": "execute_result",
          "data": {
            "text/plain": [
              "DenseVector([3.0463, 3.4866, -1.724, 2.2365, -0.2133, -0.852])"
            ]
          },
          "metadata": {},
          "execution_count": 21
        }
      ]
    },
    {
      "cell_type": "code",
      "source": [
        "regressor.intercept"
      ],
      "metadata": {
        "colab": {
          "base_uri": "https://localhost:8080/"
        },
        "id": "B2Ftjfy6BQyR",
        "outputId": "638c51f8-706d-4282-e478-c73fd57edcfd"
      },
      "execution_count": 22,
      "outputs": [
        {
          "output_type": "execute_result",
          "data": {
            "text/plain": [
              "2.059459208794125"
            ]
          },
          "metadata": {},
          "execution_count": 22
        }
      ]
    },
    {
      "cell_type": "code",
      "source": [
        "pred_results=regressor.evaluate(test_data)"
      ],
      "metadata": {
        "id": "3MOUw_v7BTLo"
      },
      "execution_count": 23,
      "outputs": []
    },
    {
      "cell_type": "code",
      "source": [
        "pred_results.predictions.show()"
      ],
      "metadata": {
        "colab": {
          "base_uri": "https://localhost:8080/"
        },
        "id": "5ix21Pm_Bfza",
        "outputId": "eb5bb27d-089c-4aed-9f17-e47d2c940f88"
      },
      "execution_count": 24,
      "outputs": [
        {
          "output_type": "stream",
          "name": "stdout",
          "text": [
            "+--------------------+----------+------------------+\n",
            "|Independent Features|total_bill|        prediction|\n",
            "+--------------------+----------+------------------+\n",
            "|(6,[0,1],[1.25,2.0])|     10.51|12.840609666216325|\n",
            "|(6,[0,1],[1.45,2.0])|      9.55|13.449869395667426|\n",
            "|(6,[0,1],[1.47,2.0])|     10.77|13.510795368612536|\n",
            "|(6,[0,1],[1.75,2.0])|     17.82|14.363758989844076|\n",
            "|(6,[0,1],[2.64,3.0])|     17.59|20.561603360077882|\n",
            "| (6,[0,1],[3.0,2.0])|      14.0| 18.17163229891345|\n",
            "|(6,[0,1],[3.18,2.0])|     19.82|18.719966055419444|\n",
            "|(6,[0,1],[3.39,2.0])|     11.61|  19.3596887713431|\n",
            "|(6,[0,1],[3.76,2.0])|     18.24|20.486819270827638|\n",
            "| (6,[0,1],[5.0,3.0])|     31.27| 27.75086816760087|\n",
            "|(6,[0,1],[5.92,3.0])|     29.03|30.553462923075934|\n",
            "|(6,[0,1],[7.58,4.0])|     39.42| 39.09695725169648|\n",
            "| (6,[0,1],[9.0,4.0])|     48.33|  43.4227013307993|\n",
            "|[1.32,2.0,0.0,0.0...|      9.68|12.840543077033857|\n",
            "|[1.36,3.0,1.0,0.0...|     18.64|13.659698025625369|\n",
            "|[1.44,2.0,0.0,0.0...|      7.56|12.140792705724428|\n",
            "|[1.48,2.0,0.0,0.0...|      8.52|12.262644651614648|\n",
            "|[1.5,2.0,0.0,0.0,...|     19.08|12.323570624559759|\n",
            "|[1.5,2.0,0.0,1.0,...|     15.69|15.625393244612287|\n",
            "|[1.5,2.0,0.0,1.0,...|     12.03|15.198778255631579|\n",
            "+--------------------+----------+------------------+\n",
            "only showing top 20 rows\n",
            "\n"
          ]
        }
      ]
    },
    {
      "cell_type": "code",
      "source": [
        "pred_results.r2,pred_results.meanAbsoluteError,pred_results.meanSquaredError"
      ],
      "metadata": {
        "colab": {
          "base_uri": "https://localhost:8080/"
        },
        "id": "e_J3jkwWBhhl",
        "outputId": "cea3daf9-e141-4fa7-c036-4fc53c24de0c"
      },
      "execution_count": 25,
      "outputs": [
        {
          "output_type": "execute_result",
          "data": {
            "text/plain": [
              "(0.6052609515312379, 3.681465336966463, 26.690975191304545)"
            ]
          },
          "metadata": {},
          "execution_count": 25
        }
      ]
    },
    {
      "cell_type": "code",
      "source": [
        "regressor.save('linear_regression')"
      ],
      "metadata": {
        "id": "GnwPPNHTBmMr"
      },
      "execution_count": 27,
      "outputs": []
    }
  ]
}