{
  "nbformat": 4,
  "nbformat_minor": 0,
  "metadata": {
    "colab": {
      "provenance": []
    },
    "kernelspec": {
      "name": "python3",
      "display_name": "Python 3"
    },
    "language_info": {
      "name": "python"
    }
  },
  "cells": [
    {
      "cell_type": "markdown",
      "source": [
        "- PySpark Dataframe\n",
        "- Reading The Dataset\n",
        "- Checking the Datatypes of the Column(Schema)\n",
        "- Selecting Columns And Indexing\n",
        "- Check Describe option similar to Pandas\n",
        "- Adding Columns\n",
        "- Dropping columns\n",
        "- Renaming Columns"
      ],
      "metadata": {
        "id": "xeqmtGd_AWWe"
      }
    },
    {
      "cell_type": "code",
      "execution_count": 168,
      "metadata": {
        "id": "q4EzQrsm7TD7"
      },
      "outputs": [],
      "source": [
        "from pyspark.sql import SparkSession\n",
        "spark = SparkSession.builder.appName('Practise').getOrCreate()"
      ]
    },
    {
      "cell_type": "code",
      "source": [
        "spark"
      ],
      "metadata": {
        "colab": {
          "base_uri": "https://localhost:8080/",
          "height": 221
        },
        "id": "WIoJUD_n7aoY",
        "outputId": "0c23df95-24f2-4c44-af34-733231be77dc"
      },
      "execution_count": 169,
      "outputs": [
        {
          "output_type": "execute_result",
          "data": {
            "text/plain": [
              "<pyspark.sql.session.SparkSession at 0x7df3843540b0>"
            ],
            "text/html": [
              "\n",
              "            <div>\n",
              "                <p><b>SparkSession - in-memory</b></p>\n",
              "                \n",
              "        <div>\n",
              "            <p><b>SparkContext</b></p>\n",
              "\n",
              "            <p><a href=\"http://a7f9d96a2cae:4040\">Spark UI</a></p>\n",
              "\n",
              "            <dl>\n",
              "              <dt>Version</dt>\n",
              "                <dd><code>v3.5.1</code></dd>\n",
              "              <dt>Master</dt>\n",
              "                <dd><code>local[*]</code></dd>\n",
              "              <dt>AppName</dt>\n",
              "                <dd><code>Practise</code></dd>\n",
              "            </dl>\n",
              "        </div>\n",
              "        \n",
              "            </div>\n",
              "        "
            ]
          },
          "metadata": {},
          "execution_count": 169
        }
      ]
    },
    {
      "cell_type": "code",
      "source": [
        "df_spark = spark.read.option('header','true').csv('play_tennis.csv', inferSchema = True)"
      ],
      "metadata": {
        "id": "33PbII3f7gow"
      },
      "execution_count": 170,
      "outputs": []
    },
    {
      "cell_type": "code",
      "source": [
        "df_spark"
      ],
      "metadata": {
        "colab": {
          "base_uri": "https://localhost:8080/"
        },
        "id": "lmfTNSnq72rb",
        "outputId": "4e35cb30-52a0-4206-ed3e-992724427049"
      },
      "execution_count": 171,
      "outputs": [
        {
          "output_type": "execute_result",
          "data": {
            "text/plain": [
              "DataFrame[day: string, outlook: string, temp: string, humidity: string, wind: string, play: string]"
            ]
          },
          "metadata": {},
          "execution_count": 171
        }
      ]
    },
    {
      "cell_type": "code",
      "source": [
        "df_spark.printSchema()"
      ],
      "metadata": {
        "colab": {
          "base_uri": "https://localhost:8080/"
        },
        "id": "f2gKEcK975cu",
        "outputId": "3ecbbd61-518a-4d27-fa21-87eccb228421"
      },
      "execution_count": 172,
      "outputs": [
        {
          "output_type": "stream",
          "name": "stdout",
          "text": [
            "root\n",
            " |-- day: string (nullable = true)\n",
            " |-- outlook: string (nullable = true)\n",
            " |-- temp: string (nullable = true)\n",
            " |-- humidity: string (nullable = true)\n",
            " |-- wind: string (nullable = true)\n",
            " |-- play: string (nullable = true)\n",
            "\n"
          ]
        }
      ]
    },
    {
      "cell_type": "code",
      "source": [
        "type(df_spark)"
      ],
      "metadata": {
        "colab": {
          "base_uri": "https://localhost:8080/",
          "height": 187
        },
        "id": "lWPEBwOb79-6",
        "outputId": "68f7da5c-82d7-4ece-c32e-ced7d7efb48c"
      },
      "execution_count": 173,
      "outputs": [
        {
          "output_type": "execute_result",
          "data": {
            "text/plain": [
              "pyspark.sql.dataframe.DataFrame"
            ],
            "text/html": [
              "<div style=\"max-width:800px; border: 1px solid var(--colab-border-color);\"><style>\n",
              "      pre.function-repr-contents {\n",
              "        overflow-x: auto;\n",
              "        padding: 8px 12px;\n",
              "        max-height: 500px;\n",
              "      }\n",
              "\n",
              "      pre.function-repr-contents.function-repr-contents-collapsed {\n",
              "        cursor: pointer;\n",
              "        max-height: 100px;\n",
              "      }\n",
              "    </style>\n",
              "    <pre style=\"white-space: initial; background:\n",
              "         var(--colab-secondary-surface-color); padding: 8px 12px;\n",
              "         border-bottom: 1px solid var(--colab-border-color);\"><b>pyspark.sql.dataframe.DataFrame</b><br/>def __init__(jdf: JavaObject, sql_ctx: Union[&#x27;SQLContext&#x27;, &#x27;SparkSession&#x27;])</pre><pre class=\"function-repr-contents function-repr-contents-collapsed\" style=\"\"><a class=\"filepath\" style=\"display:none\" href=\"#\">/usr/local/lib/python3.12/dist-packages/pyspark/sql/dataframe.py</a>A distributed collection of data grouped into named columns.\n",
              "\n",
              ".. versionadded:: 1.3.0\n",
              "\n",
              ".. versionchanged:: 3.4.0\n",
              "    Supports Spark Connect.\n",
              "\n",
              "Examples\n",
              "--------\n",
              "A :class:`DataFrame` is equivalent to a relational table in Spark SQL,\n",
              "and can be created using various functions in :class:`SparkSession`:\n",
              "\n",
              "&gt;&gt;&gt; people = spark.createDataFrame([\n",
              "...     {&quot;deptId&quot;: 1, &quot;age&quot;: 40, &quot;name&quot;: &quot;Hyukjin Kwon&quot;, &quot;gender&quot;: &quot;M&quot;, &quot;salary&quot;: 50},\n",
              "...     {&quot;deptId&quot;: 1, &quot;age&quot;: 50, &quot;name&quot;: &quot;Takuya Ueshin&quot;, &quot;gender&quot;: &quot;M&quot;, &quot;salary&quot;: 100},\n",
              "...     {&quot;deptId&quot;: 2, &quot;age&quot;: 60, &quot;name&quot;: &quot;Xinrong Meng&quot;, &quot;gender&quot;: &quot;F&quot;, &quot;salary&quot;: 150},\n",
              "...     {&quot;deptId&quot;: 3, &quot;age&quot;: 20, &quot;name&quot;: &quot;Haejoon Lee&quot;, &quot;gender&quot;: &quot;M&quot;, &quot;salary&quot;: 200}\n",
              "... ])\n",
              "\n",
              "Once created, it can be manipulated using the various domain-specific-language\n",
              "(DSL) functions defined in: :class:`DataFrame`, :class:`Column`.\n",
              "\n",
              "To select a column from the :class:`DataFrame`, use the apply method:\n",
              "\n",
              "&gt;&gt;&gt; age_col = people.age\n",
              "\n",
              "A more concrete example:\n",
              "\n",
              "&gt;&gt;&gt; # To create DataFrame using SparkSession\n",
              "... department = spark.createDataFrame([\n",
              "...     {&quot;id&quot;: 1, &quot;name&quot;: &quot;PySpark&quot;},\n",
              "...     {&quot;id&quot;: 2, &quot;name&quot;: &quot;ML&quot;},\n",
              "...     {&quot;id&quot;: 3, &quot;name&quot;: &quot;Spark SQL&quot;}\n",
              "... ])\n",
              "\n",
              "&gt;&gt;&gt; people.filter(people.age &gt; 30).join(\n",
              "...     department, people.deptId == department.id).groupBy(\n",
              "...     department.name, &quot;gender&quot;).agg({&quot;salary&quot;: &quot;avg&quot;, &quot;age&quot;: &quot;max&quot;}).show()\n",
              "+-------+------+-----------+--------+\n",
              "|   name|gender|avg(salary)|max(age)|\n",
              "+-------+------+-----------+--------+\n",
              "|     ML|     F|      150.0|      60|\n",
              "|PySpark|     M|       75.0|      50|\n",
              "+-------+------+-----------+--------+\n",
              "\n",
              "Notes\n",
              "-----\n",
              "A DataFrame should only be created as described above. It should not be directly\n",
              "created via using the constructor.</pre>\n",
              "      <script>\n",
              "      if (google.colab.kernel.accessAllowed && google.colab.files && google.colab.files.view) {\n",
              "        for (const element of document.querySelectorAll('.filepath')) {\n",
              "          element.style.display = 'block'\n",
              "          element.onclick = (event) => {\n",
              "            event.preventDefault();\n",
              "            event.stopPropagation();\n",
              "            google.colab.files.view(element.textContent, 80);\n",
              "          };\n",
              "        }\n",
              "      }\n",
              "      for (const element of document.querySelectorAll('.function-repr-contents')) {\n",
              "        element.onclick = (event) => {\n",
              "          event.preventDefault();\n",
              "          event.stopPropagation();\n",
              "          element.classList.toggle('function-repr-contents-collapsed');\n",
              "        };\n",
              "      }\n",
              "      </script>\n",
              "      </div>"
            ]
          },
          "metadata": {},
          "execution_count": 173
        }
      ]
    },
    {
      "cell_type": "code",
      "source": [
        "df_spark.columns"
      ],
      "metadata": {
        "colab": {
          "base_uri": "https://localhost:8080/"
        },
        "id": "0buggQCs84_W",
        "outputId": "538fdc5a-c482-47bf-8826-6daaa8972350"
      },
      "execution_count": 174,
      "outputs": [
        {
          "output_type": "execute_result",
          "data": {
            "text/plain": [
              "['day', 'outlook', 'temp', 'humidity', 'wind', 'play']"
            ]
          },
          "metadata": {},
          "execution_count": 174
        }
      ]
    },
    {
      "cell_type": "code",
      "source": [
        "df_spark.head(3)"
      ],
      "metadata": {
        "colab": {
          "base_uri": "https://localhost:8080/"
        },
        "id": "hUf_bd2-9DmP",
        "outputId": "33dbf55d-97b9-49f5-e4ca-2a4c77594550"
      },
      "execution_count": 175,
      "outputs": [
        {
          "output_type": "execute_result",
          "data": {
            "text/plain": [
              "[Row(day='D1', outlook='Sunny', temp='Hot', humidity='High', wind='Weak', play='No'),\n",
              " Row(day='D2', outlook='Sunny', temp='Hot', humidity='High', wind='Strong', play='No'),\n",
              " Row(day='D3', outlook='Overcast', temp='Hot', humidity='High', wind='Weak', play='Yes')]"
            ]
          },
          "metadata": {},
          "execution_count": 175
        }
      ]
    },
    {
      "cell_type": "code",
      "source": [
        "df_spark.show()"
      ],
      "metadata": {
        "colab": {
          "base_uri": "https://localhost:8080/"
        },
        "id": "wnUzJV0R9GDL",
        "outputId": "20cbd025-ca81-4bec-92b3-64f9ff3c1ae5"
      },
      "execution_count": 176,
      "outputs": [
        {
          "output_type": "stream",
          "name": "stdout",
          "text": [
            "+---+--------+----+--------+------+----+\n",
            "|day| outlook|temp|humidity|  wind|play|\n",
            "+---+--------+----+--------+------+----+\n",
            "| D1|   Sunny| Hot|    High|  Weak|  No|\n",
            "| D2|   Sunny| Hot|    High|Strong|  No|\n",
            "| D3|Overcast| Hot|    High|  Weak| Yes|\n",
            "| D4|    Rain|Mild|    High|  Weak| Yes|\n",
            "| D5|    Rain|Cool|  Normal|  Weak| Yes|\n",
            "| D6|    Rain|Cool|  Normal|Strong|  No|\n",
            "| D7|Overcast|Cool|  Normal|Strong| Yes|\n",
            "| D8|   Sunny|Mild|    High|  Weak|  No|\n",
            "| D9|   Sunny|Cool|  Normal|  Weak| Yes|\n",
            "|D10|    Rain|Mild|  Normal|  Weak| Yes|\n",
            "|D11|   Sunny|Mild|  Normal|Strong| Yes|\n",
            "|D12|Overcast|Mild|    High|Strong| Yes|\n",
            "|D13|Overcast| Hot|  Normal|  Weak| Yes|\n",
            "|D14|    Rain|Mild|    High|Strong|  No|\n",
            "+---+--------+----+--------+------+----+\n",
            "\n"
          ]
        }
      ]
    },
    {
      "cell_type": "code",
      "source": [
        "df_spark.select(['outlook', 'wind']).show()\n",
        "\n",
        "#  select multiple rows"
      ],
      "metadata": {
        "colab": {
          "base_uri": "https://localhost:8080/"
        },
        "id": "Luos0fzI9O06",
        "outputId": "310d67ce-209c-4f35-ec56-f0ed6262572f"
      },
      "execution_count": 177,
      "outputs": [
        {
          "output_type": "stream",
          "name": "stdout",
          "text": [
            "+--------+------+\n",
            "| outlook|  wind|\n",
            "+--------+------+\n",
            "|   Sunny|  Weak|\n",
            "|   Sunny|Strong|\n",
            "|Overcast|  Weak|\n",
            "|    Rain|  Weak|\n",
            "|    Rain|  Weak|\n",
            "|    Rain|Strong|\n",
            "|Overcast|Strong|\n",
            "|   Sunny|  Weak|\n",
            "|   Sunny|  Weak|\n",
            "|    Rain|  Weak|\n",
            "|   Sunny|Strong|\n",
            "|Overcast|Strong|\n",
            "|Overcast|  Weak|\n",
            "|    Rain|Strong|\n",
            "+--------+------+\n",
            "\n"
          ]
        }
      ]
    },
    {
      "cell_type": "code",
      "source": [
        "df_spark.dtypes"
      ],
      "metadata": {
        "colab": {
          "base_uri": "https://localhost:8080/"
        },
        "id": "pOmu25-E9Y8-",
        "outputId": "7e5ec1a7-0c68-430c-ae7c-5ddc2985ded3"
      },
      "execution_count": 178,
      "outputs": [
        {
          "output_type": "execute_result",
          "data": {
            "text/plain": [
              "[('day', 'string'),\n",
              " ('outlook', 'string'),\n",
              " ('temp', 'string'),\n",
              " ('humidity', 'string'),\n",
              " ('wind', 'string'),\n",
              " ('play', 'string')]"
            ]
          },
          "metadata": {},
          "execution_count": 178
        }
      ]
    },
    {
      "cell_type": "code",
      "source": [
        "df_spark.describe().show()"
      ],
      "metadata": {
        "colab": {
          "base_uri": "https://localhost:8080/"
        },
        "id": "EYLOuOOg92_q",
        "outputId": "fb2a9071-808f-4735-e527-00e191591c4d"
      },
      "execution_count": 179,
      "outputs": [
        {
          "output_type": "stream",
          "name": "stdout",
          "text": [
            "+-------+----+--------+----+--------+------+----+\n",
            "|summary| day| outlook|temp|humidity|  wind|play|\n",
            "+-------+----+--------+----+--------+------+----+\n",
            "|  count|  14|      14|  14|      14|    14|  14|\n",
            "|   mean|NULL|    NULL|NULL|    NULL|  NULL|NULL|\n",
            "| stddev|NULL|    NULL|NULL|    NULL|  NULL|NULL|\n",
            "|    min|  D1|Overcast|Cool|    High|Strong|  No|\n",
            "|    max|  D9|   Sunny|Mild|  Normal|  Weak| Yes|\n",
            "+-------+----+--------+----+--------+------+----+\n",
            "\n"
          ]
        }
      ]
    },
    {
      "cell_type": "code",
      "source": [
        "df_spark = df_spark.withColumn('temp_updated', df_spark['temp'])\n",
        "\n",
        "#  for adding columns"
      ],
      "metadata": {
        "id": "bmsV64XR9_u0"
      },
      "execution_count": 180,
      "outputs": []
    },
    {
      "cell_type": "code",
      "source": [
        "df_spark.show()"
      ],
      "metadata": {
        "colab": {
          "base_uri": "https://localhost:8080/"
        },
        "id": "NOygkNJJ-muG",
        "outputId": "2af31321-500c-409b-833a-6e1a8f1678d5"
      },
      "execution_count": 181,
      "outputs": [
        {
          "output_type": "stream",
          "name": "stdout",
          "text": [
            "+---+--------+----+--------+------+----+------------+\n",
            "|day| outlook|temp|humidity|  wind|play|temp_updated|\n",
            "+---+--------+----+--------+------+----+------------+\n",
            "| D1|   Sunny| Hot|    High|  Weak|  No|         Hot|\n",
            "| D2|   Sunny| Hot|    High|Strong|  No|         Hot|\n",
            "| D3|Overcast| Hot|    High|  Weak| Yes|         Hot|\n",
            "| D4|    Rain|Mild|    High|  Weak| Yes|        Mild|\n",
            "| D5|    Rain|Cool|  Normal|  Weak| Yes|        Cool|\n",
            "| D6|    Rain|Cool|  Normal|Strong|  No|        Cool|\n",
            "| D7|Overcast|Cool|  Normal|Strong| Yes|        Cool|\n",
            "| D8|   Sunny|Mild|    High|  Weak|  No|        Mild|\n",
            "| D9|   Sunny|Cool|  Normal|  Weak| Yes|        Cool|\n",
            "|D10|    Rain|Mild|  Normal|  Weak| Yes|        Mild|\n",
            "|D11|   Sunny|Mild|  Normal|Strong| Yes|        Mild|\n",
            "|D12|Overcast|Mild|    High|Strong| Yes|        Mild|\n",
            "|D13|Overcast| Hot|  Normal|  Weak| Yes|         Hot|\n",
            "|D14|    Rain|Mild|    High|Strong|  No|        Mild|\n",
            "+---+--------+----+--------+------+----+------------+\n",
            "\n"
          ]
        }
      ]
    },
    {
      "cell_type": "code",
      "source": [
        "#  for removing the colomns\n",
        "\n",
        "df_spark = df_spark.drop('temp_updated')"
      ],
      "metadata": {
        "id": "c3VBsKMG-_nh"
      },
      "execution_count": 182,
      "outputs": []
    },
    {
      "cell_type": "code",
      "source": [
        "df_spark.show()"
      ],
      "metadata": {
        "colab": {
          "base_uri": "https://localhost:8080/"
        },
        "id": "WQyyR0eJ_weC",
        "outputId": "a1ef8b94-9a6f-40b0-917c-6208bd3b03d4"
      },
      "execution_count": 183,
      "outputs": [
        {
          "output_type": "stream",
          "name": "stdout",
          "text": [
            "+---+--------+----+--------+------+----+\n",
            "|day| outlook|temp|humidity|  wind|play|\n",
            "+---+--------+----+--------+------+----+\n",
            "| D1|   Sunny| Hot|    High|  Weak|  No|\n",
            "| D2|   Sunny| Hot|    High|Strong|  No|\n",
            "| D3|Overcast| Hot|    High|  Weak| Yes|\n",
            "| D4|    Rain|Mild|    High|  Weak| Yes|\n",
            "| D5|    Rain|Cool|  Normal|  Weak| Yes|\n",
            "| D6|    Rain|Cool|  Normal|Strong|  No|\n",
            "| D7|Overcast|Cool|  Normal|Strong| Yes|\n",
            "| D8|   Sunny|Mild|    High|  Weak|  No|\n",
            "| D9|   Sunny|Cool|  Normal|  Weak| Yes|\n",
            "|D10|    Rain|Mild|  Normal|  Weak| Yes|\n",
            "|D11|   Sunny|Mild|  Normal|Strong| Yes|\n",
            "|D12|Overcast|Mild|    High|Strong| Yes|\n",
            "|D13|Overcast| Hot|  Normal|  Weak| Yes|\n",
            "|D14|    Rain|Mild|    High|Strong|  No|\n",
            "+---+--------+----+--------+------+----+\n",
            "\n"
          ]
        }
      ]
    },
    {
      "cell_type": "code",
      "source": [
        "#  renaming colomns\n",
        "\n",
        "df_spark.withColumnRenamed('outlook', 'weather').show()"
      ],
      "metadata": {
        "colab": {
          "base_uri": "https://localhost:8080/"
        },
        "id": "yoNNnJXA_xum",
        "outputId": "4bf5589d-2134-4dc1-a95c-38e001b33252"
      },
      "execution_count": 184,
      "outputs": [
        {
          "output_type": "stream",
          "name": "stdout",
          "text": [
            "+---+--------+----+--------+------+----+\n",
            "|day| weather|temp|humidity|  wind|play|\n",
            "+---+--------+----+--------+------+----+\n",
            "| D1|   Sunny| Hot|    High|  Weak|  No|\n",
            "| D2|   Sunny| Hot|    High|Strong|  No|\n",
            "| D3|Overcast| Hot|    High|  Weak| Yes|\n",
            "| D4|    Rain|Mild|    High|  Weak| Yes|\n",
            "| D5|    Rain|Cool|  Normal|  Weak| Yes|\n",
            "| D6|    Rain|Cool|  Normal|Strong|  No|\n",
            "| D7|Overcast|Cool|  Normal|Strong| Yes|\n",
            "| D8|   Sunny|Mild|    High|  Weak|  No|\n",
            "| D9|   Sunny|Cool|  Normal|  Weak| Yes|\n",
            "|D10|    Rain|Mild|  Normal|  Weak| Yes|\n",
            "|D11|   Sunny|Mild|  Normal|Strong| Yes|\n",
            "|D12|Overcast|Mild|    High|Strong| Yes|\n",
            "|D13|Overcast| Hot|  Normal|  Weak| Yes|\n",
            "|D14|    Rain|Mild|    High|Strong|  No|\n",
            "+---+--------+----+--------+------+----+\n",
            "\n"
          ]
        }
      ]
    },
    {
      "cell_type": "code",
      "source": [
        "df_spark1 = spark.read.csv('play_tennis_updated.csv', header = True, inferSchema = True)"
      ],
      "metadata": {
        "id": "FsQC-yGyAI1V"
      },
      "execution_count": 185,
      "outputs": []
    },
    {
      "cell_type": "code",
      "source": [
        "df_spark1.show()"
      ],
      "metadata": {
        "colab": {
          "base_uri": "https://localhost:8080/"
        },
        "id": "qX1gVkS7Hi7j",
        "outputId": "92362ad0-1951-46fc-9aff-c128fc9c9f34"
      },
      "execution_count": 186,
      "outputs": [
        {
          "output_type": "stream",
          "name": "stdout",
          "text": [
            "+---+--------+----+--------+------+----+-----+\n",
            "|day| outlook|temp|humidity|  wind|play|hours|\n",
            "+---+--------+----+--------+------+----+-----+\n",
            "| D1|   Sunny| Hot|    High|  Weak|  No|    3|\n",
            "| D2|   Sunny| Hot|    High|Strong|  No|    5|\n",
            "| D3|Overcast| Hot|    High|  Weak| Yes|   10|\n",
            "| D4|    Rain|Mild|    High|  Weak| Yes|    4|\n",
            "| D5|    Rain|Cool|  Normal|  Weak| Yes|   18|\n",
            "| D6|    Rain|Cool|  Normal|Strong|  No|   15|\n",
            "| D7|Overcast|Cool|  Normal|Strong| Yes|    7|\n",
            "| D8|   Sunny|Mild|    High|  Weak|  No|    5|\n",
            "| D9|   Sunny|Cool|  Normal|  Weak| Yes|   12|\n",
            "|D10|    Rain|Mild|  Normal|  Weak| Yes|   11|\n",
            "|D11|   Sunny|Mild|  Normal|Strong| Yes|    6|\n",
            "|D12|Overcast|Mild|    High|Strong| Yes|    6|\n",
            "|D13|Overcast| Hot|    NULL|  Weak| Yes| NULL|\n",
            "|D14|    Rain|NULL|    High|  NULL|  No| NULL|\n",
            "+---+--------+----+--------+------+----+-----+\n",
            "\n"
          ]
        }
      ]
    },
    {
      "cell_type": "code",
      "source": [
        "df_spark1.drop('temp').show()"
      ],
      "metadata": {
        "colab": {
          "base_uri": "https://localhost:8080/"
        },
        "id": "xNhfuVgLHsuq",
        "outputId": "a4139ba4-4622-42c6-a5c0-208df4bdebee"
      },
      "execution_count": 187,
      "outputs": [
        {
          "output_type": "stream",
          "name": "stdout",
          "text": [
            "+---+--------+--------+------+----+-----+\n",
            "|day| outlook|humidity|  wind|play|hours|\n",
            "+---+--------+--------+------+----+-----+\n",
            "| D1|   Sunny|    High|  Weak|  No|    3|\n",
            "| D2|   Sunny|    High|Strong|  No|    5|\n",
            "| D3|Overcast|    High|  Weak| Yes|   10|\n",
            "| D4|    Rain|    High|  Weak| Yes|    4|\n",
            "| D5|    Rain|  Normal|  Weak| Yes|   18|\n",
            "| D6|    Rain|  Normal|Strong|  No|   15|\n",
            "| D7|Overcast|  Normal|Strong| Yes|    7|\n",
            "| D8|   Sunny|    High|  Weak|  No|    5|\n",
            "| D9|   Sunny|  Normal|  Weak| Yes|   12|\n",
            "|D10|    Rain|  Normal|  Weak| Yes|   11|\n",
            "|D11|   Sunny|  Normal|Strong| Yes|    6|\n",
            "|D12|Overcast|    High|Strong| Yes|    6|\n",
            "|D13|Overcast|    NULL|  Weak| Yes| NULL|\n",
            "|D14|    Rain|    High|  NULL|  No| NULL|\n",
            "+---+--------+--------+------+----+-----+\n",
            "\n"
          ]
        }
      ]
    },
    {
      "cell_type": "code",
      "source": [
        "df_spark1.na.drop().show()\n",
        "\n",
        "#  all rows with null values get deleted"
      ],
      "metadata": {
        "colab": {
          "base_uri": "https://localhost:8080/"
        },
        "id": "9YVhceEmjJXR",
        "outputId": "b4f8a49e-60b0-4408-cc05-bc7a347d7814"
      },
      "execution_count": 188,
      "outputs": [
        {
          "output_type": "stream",
          "name": "stdout",
          "text": [
            "+---+--------+----+--------+------+----+-----+\n",
            "|day| outlook|temp|humidity|  wind|play|hours|\n",
            "+---+--------+----+--------+------+----+-----+\n",
            "| D1|   Sunny| Hot|    High|  Weak|  No|    3|\n",
            "| D2|   Sunny| Hot|    High|Strong|  No|    5|\n",
            "| D3|Overcast| Hot|    High|  Weak| Yes|   10|\n",
            "| D4|    Rain|Mild|    High|  Weak| Yes|    4|\n",
            "| D5|    Rain|Cool|  Normal|  Weak| Yes|   18|\n",
            "| D6|    Rain|Cool|  Normal|Strong|  No|   15|\n",
            "| D7|Overcast|Cool|  Normal|Strong| Yes|    7|\n",
            "| D8|   Sunny|Mild|    High|  Weak|  No|    5|\n",
            "| D9|   Sunny|Cool|  Normal|  Weak| Yes|   12|\n",
            "|D10|    Rain|Mild|  Normal|  Weak| Yes|   11|\n",
            "|D11|   Sunny|Mild|  Normal|Strong| Yes|    6|\n",
            "|D12|Overcast|Mild|    High|Strong| Yes|    6|\n",
            "+---+--------+----+--------+------+----+-----+\n",
            "\n"
          ]
        }
      ]
    },
    {
      "cell_type": "code",
      "source": [
        "#  drop() has three arguments how = any and thresh = None and subset\n",
        "#  all --> all values should be null, any ---> any value is null then remove complete row\n",
        "df_spark1.na.drop(how='all').show()"
      ],
      "metadata": {
        "colab": {
          "base_uri": "https://localhost:8080/"
        },
        "id": "kTCJtonRjRsE",
        "outputId": "1c73056f-e955-495b-940b-ec59009cb262"
      },
      "execution_count": 189,
      "outputs": [
        {
          "output_type": "stream",
          "name": "stdout",
          "text": [
            "+---+--------+----+--------+------+----+-----+\n",
            "|day| outlook|temp|humidity|  wind|play|hours|\n",
            "+---+--------+----+--------+------+----+-----+\n",
            "| D1|   Sunny| Hot|    High|  Weak|  No|    3|\n",
            "| D2|   Sunny| Hot|    High|Strong|  No|    5|\n",
            "| D3|Overcast| Hot|    High|  Weak| Yes|   10|\n",
            "| D4|    Rain|Mild|    High|  Weak| Yes|    4|\n",
            "| D5|    Rain|Cool|  Normal|  Weak| Yes|   18|\n",
            "| D6|    Rain|Cool|  Normal|Strong|  No|   15|\n",
            "| D7|Overcast|Cool|  Normal|Strong| Yes|    7|\n",
            "| D8|   Sunny|Mild|    High|  Weak|  No|    5|\n",
            "| D9|   Sunny|Cool|  Normal|  Weak| Yes|   12|\n",
            "|D10|    Rain|Mild|  Normal|  Weak| Yes|   11|\n",
            "|D11|   Sunny|Mild|  Normal|Strong| Yes|    6|\n",
            "|D12|Overcast|Mild|    High|Strong| Yes|    6|\n",
            "|D13|Overcast| Hot|    NULL|  Weak| Yes| NULL|\n",
            "|D14|    Rain|NULL|    High|  NULL|  No| NULL|\n",
            "+---+--------+----+--------+------+----+-----+\n",
            "\n"
          ]
        }
      ]
    },
    {
      "cell_type": "code",
      "source": [
        "# threshould = 2, atleast two non values should present\n",
        "df_spark1.na.drop(thresh=2).show()"
      ],
      "metadata": {
        "colab": {
          "base_uri": "https://localhost:8080/"
        },
        "id": "LgcEx-AHj0ZR",
        "outputId": "7654fec5-1b3b-4495-804e-d8fffd364962"
      },
      "execution_count": 190,
      "outputs": [
        {
          "output_type": "stream",
          "name": "stdout",
          "text": [
            "+---+--------+----+--------+------+----+-----+\n",
            "|day| outlook|temp|humidity|  wind|play|hours|\n",
            "+---+--------+----+--------+------+----+-----+\n",
            "| D1|   Sunny| Hot|    High|  Weak|  No|    3|\n",
            "| D2|   Sunny| Hot|    High|Strong|  No|    5|\n",
            "| D3|Overcast| Hot|    High|  Weak| Yes|   10|\n",
            "| D4|    Rain|Mild|    High|  Weak| Yes|    4|\n",
            "| D5|    Rain|Cool|  Normal|  Weak| Yes|   18|\n",
            "| D6|    Rain|Cool|  Normal|Strong|  No|   15|\n",
            "| D7|Overcast|Cool|  Normal|Strong| Yes|    7|\n",
            "| D8|   Sunny|Mild|    High|  Weak|  No|    5|\n",
            "| D9|   Sunny|Cool|  Normal|  Weak| Yes|   12|\n",
            "|D10|    Rain|Mild|  Normal|  Weak| Yes|   11|\n",
            "|D11|   Sunny|Mild|  Normal|Strong| Yes|    6|\n",
            "|D12|Overcast|Mild|    High|Strong| Yes|    6|\n",
            "|D13|Overcast| Hot|    NULL|  Weak| Yes| NULL|\n",
            "|D14|    Rain|NULL|    High|  NULL|  No| NULL|\n",
            "+---+--------+----+--------+------+----+-----+\n",
            "\n"
          ]
        }
      ]
    },
    {
      "cell_type": "code",
      "source": [
        "#  dropping from specific columns\n",
        "df_spark1.na.drop(subset=['wind']).show()"
      ],
      "metadata": {
        "colab": {
          "base_uri": "https://localhost:8080/"
        },
        "id": "TlAcVjbGkG1C",
        "outputId": "852a8425-bc2f-4da1-ba84-657e34bafdee"
      },
      "execution_count": 191,
      "outputs": [
        {
          "output_type": "stream",
          "name": "stdout",
          "text": [
            "+---+--------+----+--------+------+----+-----+\n",
            "|day| outlook|temp|humidity|  wind|play|hours|\n",
            "+---+--------+----+--------+------+----+-----+\n",
            "| D1|   Sunny| Hot|    High|  Weak|  No|    3|\n",
            "| D2|   Sunny| Hot|    High|Strong|  No|    5|\n",
            "| D3|Overcast| Hot|    High|  Weak| Yes|   10|\n",
            "| D4|    Rain|Mild|    High|  Weak| Yes|    4|\n",
            "| D5|    Rain|Cool|  Normal|  Weak| Yes|   18|\n",
            "| D6|    Rain|Cool|  Normal|Strong|  No|   15|\n",
            "| D7|Overcast|Cool|  Normal|Strong| Yes|    7|\n",
            "| D8|   Sunny|Mild|    High|  Weak|  No|    5|\n",
            "| D9|   Sunny|Cool|  Normal|  Weak| Yes|   12|\n",
            "|D10|    Rain|Mild|  Normal|  Weak| Yes|   11|\n",
            "|D11|   Sunny|Mild|  Normal|Strong| Yes|    6|\n",
            "|D12|Overcast|Mild|    High|Strong| Yes|    6|\n",
            "|D13|Overcast| Hot|    NULL|  Weak| Yes| NULL|\n",
            "+---+--------+----+--------+------+----+-----+\n",
            "\n"
          ]
        }
      ]
    },
    {
      "cell_type": "code",
      "source": [
        "#  filling the missing values\n",
        "\n",
        "df_spark1.na.fill('missing values', ['outlook', 'temp', 'humidity', 'wind', 'play', 'hours']).show()"
      ],
      "metadata": {
        "colab": {
          "base_uri": "https://localhost:8080/"
        },
        "id": "xZznNRPzkdct",
        "outputId": "8eb72887-e91c-4e60-a664-42bc45bce703"
      },
      "execution_count": 192,
      "outputs": [
        {
          "output_type": "stream",
          "name": "stdout",
          "text": [
            "+---+--------+--------------+--------------+--------------+----+-----+\n",
            "|day| outlook|          temp|      humidity|          wind|play|hours|\n",
            "+---+--------+--------------+--------------+--------------+----+-----+\n",
            "| D1|   Sunny|           Hot|          High|          Weak|  No|    3|\n",
            "| D2|   Sunny|           Hot|          High|        Strong|  No|    5|\n",
            "| D3|Overcast|           Hot|          High|          Weak| Yes|   10|\n",
            "| D4|    Rain|          Mild|          High|          Weak| Yes|    4|\n",
            "| D5|    Rain|          Cool|        Normal|          Weak| Yes|   18|\n",
            "| D6|    Rain|          Cool|        Normal|        Strong|  No|   15|\n",
            "| D7|Overcast|          Cool|        Normal|        Strong| Yes|    7|\n",
            "| D8|   Sunny|          Mild|          High|          Weak|  No|    5|\n",
            "| D9|   Sunny|          Cool|        Normal|          Weak| Yes|   12|\n",
            "|D10|    Rain|          Mild|        Normal|          Weak| Yes|   11|\n",
            "|D11|   Sunny|          Mild|        Normal|        Strong| Yes|    6|\n",
            "|D12|Overcast|          Mild|          High|        Strong| Yes|    6|\n",
            "|D13|Overcast|           Hot|missing values|          Weak| Yes| NULL|\n",
            "|D14|    Rain|missing values|          High|missing values|  No| NULL|\n",
            "+---+--------+--------------+--------------+--------------+----+-----+\n",
            "\n"
          ]
        }
      ]
    },
    {
      "cell_type": "code",
      "source": [
        "df_spark1.show()"
      ],
      "metadata": {
        "colab": {
          "base_uri": "https://localhost:8080/"
        },
        "id": "QLDZX4zpkkST",
        "outputId": "95bf2351-2c57-412a-b648-d22fc1c0208c"
      },
      "execution_count": 193,
      "outputs": [
        {
          "output_type": "stream",
          "name": "stdout",
          "text": [
            "+---+--------+----+--------+------+----+-----+\n",
            "|day| outlook|temp|humidity|  wind|play|hours|\n",
            "+---+--------+----+--------+------+----+-----+\n",
            "| D1|   Sunny| Hot|    High|  Weak|  No|    3|\n",
            "| D2|   Sunny| Hot|    High|Strong|  No|    5|\n",
            "| D3|Overcast| Hot|    High|  Weak| Yes|   10|\n",
            "| D4|    Rain|Mild|    High|  Weak| Yes|    4|\n",
            "| D5|    Rain|Cool|  Normal|  Weak| Yes|   18|\n",
            "| D6|    Rain|Cool|  Normal|Strong|  No|   15|\n",
            "| D7|Overcast|Cool|  Normal|Strong| Yes|    7|\n",
            "| D8|   Sunny|Mild|    High|  Weak|  No|    5|\n",
            "| D9|   Sunny|Cool|  Normal|  Weak| Yes|   12|\n",
            "|D10|    Rain|Mild|  Normal|  Weak| Yes|   11|\n",
            "|D11|   Sunny|Mild|  Normal|Strong| Yes|    6|\n",
            "|D12|Overcast|Mild|    High|Strong| Yes|    6|\n",
            "|D13|Overcast| Hot|    NULL|  Weak| Yes| NULL|\n",
            "|D14|    Rain|NULL|    High|  NULL|  No| NULL|\n",
            "+---+--------+----+--------+------+----+-----+\n",
            "\n"
          ]
        }
      ]
    },
    {
      "cell_type": "code",
      "source": [
        "from pyspark.ml.feature import Imputer\n",
        "\n",
        "imputer = Imputer(\n",
        "    inputCols = ['hours'],\n",
        "    outputCols = [\"{}_imputed\".format(c) for c in ['hours']]\n",
        ").setStrategy(\"mean\")"
      ],
      "metadata": {
        "id": "TIGccEo1k3me"
      },
      "execution_count": 194,
      "outputs": []
    },
    {
      "cell_type": "code",
      "source": [
        "df_spark1 = imputer.fit(df_spark1).transform(df_spark1)"
      ],
      "metadata": {
        "id": "5gkVkwQclN8Y"
      },
      "execution_count": 195,
      "outputs": []
    },
    {
      "cell_type": "code",
      "source": [
        "# imputer_catogorical = Imputer(\n",
        "#     inputCols = ['outlook', 'temp', 'humidity', 'wind'],\n",
        "#     outputCols = [\"{}_imputed\".format(c) for c in ['outlook', 'temp', 'humidity', 'wind']]\n",
        "# ).setStrategy(\"most_frequent\")\n",
        "\n",
        "#  we can use this in pyspark ---> limitation"
      ],
      "metadata": {
        "id": "WcCI4Y8FlWlv"
      },
      "execution_count": 196,
      "outputs": []
    },
    {
      "cell_type": "code",
      "source": [
        "#  = imputer_catogorical.fit(df_spark1).transform(df_spark1).show()"
      ],
      "metadata": {
        "id": "A9i1qjKxlt7n"
      },
      "execution_count": 197,
      "outputs": []
    },
    {
      "cell_type": "code",
      "source": [
        "categorical_cols = ['outlook', 'temp', 'humidity', 'wind']"
      ],
      "metadata": {
        "id": "xr_acx0YnTP7"
      },
      "execution_count": 198,
      "outputs": []
    },
    {
      "cell_type": "code",
      "source": [
        "df_spark1.show()"
      ],
      "metadata": {
        "colab": {
          "base_uri": "https://localhost:8080/"
        },
        "id": "k9ySnSq7oDHc",
        "outputId": "ecd06d66-1798-453a-a650-38330780c0f0"
      },
      "execution_count": 199,
      "outputs": [
        {
          "output_type": "stream",
          "name": "stdout",
          "text": [
            "+---+--------+----+--------+------+----+-----+-------------+\n",
            "|day| outlook|temp|humidity|  wind|play|hours|hours_imputed|\n",
            "+---+--------+----+--------+------+----+-----+-------------+\n",
            "| D1|   Sunny| Hot|    High|  Weak|  No|    3|            3|\n",
            "| D2|   Sunny| Hot|    High|Strong|  No|    5|            5|\n",
            "| D3|Overcast| Hot|    High|  Weak| Yes|   10|           10|\n",
            "| D4|    Rain|Mild|    High|  Weak| Yes|    4|            4|\n",
            "| D5|    Rain|Cool|  Normal|  Weak| Yes|   18|           18|\n",
            "| D6|    Rain|Cool|  Normal|Strong|  No|   15|           15|\n",
            "| D7|Overcast|Cool|  Normal|Strong| Yes|    7|            7|\n",
            "| D8|   Sunny|Mild|    High|  Weak|  No|    5|            5|\n",
            "| D9|   Sunny|Cool|  Normal|  Weak| Yes|   12|           12|\n",
            "|D10|    Rain|Mild|  Normal|  Weak| Yes|   11|           11|\n",
            "|D11|   Sunny|Mild|  Normal|Strong| Yes|    6|            6|\n",
            "|D12|Overcast|Mild|    High|Strong| Yes|    6|            6|\n",
            "|D13|Overcast| Hot|    NULL|  Weak| Yes| NULL|            8|\n",
            "|D14|    Rain|NULL|    High|  NULL|  No| NULL|            8|\n",
            "+---+--------+----+--------+------+----+-----+-------------+\n",
            "\n"
          ]
        }
      ]
    },
    {
      "cell_type": "code",
      "source": [
        "from pyspark.sql import functions as F\n",
        "\n",
        "modes = {}\n",
        "for c in categorical_cols:\n",
        "    mode_val = (\n",
        "        df_spark1.groupBy(c).count()\n",
        "          .orderBy(F.desc(\"count\"))\n",
        "          .filter(F.col(c).isNotNull())\n",
        "          .first()[0]\n",
        "    )\n",
        "    modes[c] = mode_val\n",
        "\n",
        "\n",
        "modes\n",
        "# df = df.na.fill(modes)\n"
      ],
      "metadata": {
        "colab": {
          "base_uri": "https://localhost:8080/"
        },
        "id": "XR8BtQKvlzMM",
        "outputId": "f17e3c3e-52ed-4d54-f03c-4d83a0fd5872"
      },
      "execution_count": 200,
      "outputs": [
        {
          "output_type": "execute_result",
          "data": {
            "text/plain": [
              "{'outlook': 'Sunny', 'temp': 'Mild', 'humidity': 'High', 'wind': 'Weak'}"
            ]
          },
          "metadata": {},
          "execution_count": 200
        }
      ]
    },
    {
      "cell_type": "code",
      "source": [
        "df_spark1.na.fill(modes).show()"
      ],
      "metadata": {
        "colab": {
          "base_uri": "https://localhost:8080/"
        },
        "id": "Vho_QOZunOxi",
        "outputId": "e3fecca0-3e34-446e-fb20-e391c2c0c878"
      },
      "execution_count": 201,
      "outputs": [
        {
          "output_type": "stream",
          "name": "stdout",
          "text": [
            "+---+--------+----+--------+------+----+-----+-------------+\n",
            "|day| outlook|temp|humidity|  wind|play|hours|hours_imputed|\n",
            "+---+--------+----+--------+------+----+-----+-------------+\n",
            "| D1|   Sunny| Hot|    High|  Weak|  No|    3|            3|\n",
            "| D2|   Sunny| Hot|    High|Strong|  No|    5|            5|\n",
            "| D3|Overcast| Hot|    High|  Weak| Yes|   10|           10|\n",
            "| D4|    Rain|Mild|    High|  Weak| Yes|    4|            4|\n",
            "| D5|    Rain|Cool|  Normal|  Weak| Yes|   18|           18|\n",
            "| D6|    Rain|Cool|  Normal|Strong|  No|   15|           15|\n",
            "| D7|Overcast|Cool|  Normal|Strong| Yes|    7|            7|\n",
            "| D8|   Sunny|Mild|    High|  Weak|  No|    5|            5|\n",
            "| D9|   Sunny|Cool|  Normal|  Weak| Yes|   12|           12|\n",
            "|D10|    Rain|Mild|  Normal|  Weak| Yes|   11|           11|\n",
            "|D11|   Sunny|Mild|  Normal|Strong| Yes|    6|            6|\n",
            "|D12|Overcast|Mild|    High|Strong| Yes|    6|            6|\n",
            "|D13|Overcast| Hot|    High|  Weak| Yes| NULL|            8|\n",
            "|D14|    Rain|Mild|    High|  Weak|  No| NULL|            8|\n",
            "+---+--------+----+--------+------+----+-----+-------------+\n",
            "\n"
          ]
        }
      ]
    },
    {
      "cell_type": "code",
      "source": [
        "#  filter operations\n",
        "\n",
        "df_spark1.filter(\"hours >= 10\").show()"
      ],
      "metadata": {
        "colab": {
          "base_uri": "https://localhost:8080/"
        },
        "id": "fuwQxSCWnqd3",
        "outputId": "917e5973-ea4f-4ae5-8223-1ef09d775642"
      },
      "execution_count": 202,
      "outputs": [
        {
          "output_type": "stream",
          "name": "stdout",
          "text": [
            "+---+--------+----+--------+------+----+-----+-------------+\n",
            "|day| outlook|temp|humidity|  wind|play|hours|hours_imputed|\n",
            "+---+--------+----+--------+------+----+-----+-------------+\n",
            "| D3|Overcast| Hot|    High|  Weak| Yes|   10|           10|\n",
            "| D5|    Rain|Cool|  Normal|  Weak| Yes|   18|           18|\n",
            "| D6|    Rain|Cool|  Normal|Strong|  No|   15|           15|\n",
            "| D9|   Sunny|Cool|  Normal|  Weak| Yes|   12|           12|\n",
            "|D10|    Rain|Mild|  Normal|  Weak| Yes|   11|           11|\n",
            "+---+--------+----+--------+------+----+-----+-------------+\n",
            "\n"
          ]
        }
      ]
    },
    {
      "cell_type": "code",
      "source": [
        "#  selecting specific colomns after filtering\n",
        "df_spark1.filter(\"hours >= 10\").select(['outlook', 'temp', 'hours']).show()"
      ],
      "metadata": {
        "colab": {
          "base_uri": "https://localhost:8080/"
        },
        "id": "UwGnbUdMq8ij",
        "outputId": "7ed76974-2274-4b56-e863-685442e6b5df"
      },
      "execution_count": 203,
      "outputs": [
        {
          "output_type": "stream",
          "name": "stdout",
          "text": [
            "+--------+----+-----+\n",
            "| outlook|temp|hours|\n",
            "+--------+----+-----+\n",
            "|Overcast| Hot|   10|\n",
            "|    Rain|Cool|   18|\n",
            "|    Rain|Cool|   15|\n",
            "|   Sunny|Cool|   12|\n",
            "|    Rain|Mild|   11|\n",
            "+--------+----+-----+\n",
            "\n"
          ]
        }
      ]
    },
    {
      "cell_type": "code",
      "source": [
        "df_spark1.filter((df_spark1['hours'] >= 10) & (df_spark1['wind']=='Strong')).show()"
      ],
      "metadata": {
        "colab": {
          "base_uri": "https://localhost:8080/"
        },
        "id": "_Jw7x2cFrExN",
        "outputId": "c9b0cb79-7602-4182-c4a0-56d3f31efaef"
      },
      "execution_count": 206,
      "outputs": [
        {
          "output_type": "stream",
          "name": "stdout",
          "text": [
            "+---+-------+----+--------+------+----+-----+-------------+\n",
            "|day|outlook|temp|humidity|  wind|play|hours|hours_imputed|\n",
            "+---+-------+----+--------+------+----+-----+-------------+\n",
            "| D6|   Rain|Cool|  Normal|Strong|  No|   15|           15|\n",
            "+---+-------+----+--------+------+----+-----+-------------+\n",
            "\n"
          ]
        }
      ]
    },
    {
      "cell_type": "code",
      "source": [
        "df_spark1.filter((df_spark1['hours'] >= 10) | (df_spark1['wind']=='weak')).show()"
      ],
      "metadata": {
        "colab": {
          "base_uri": "https://localhost:8080/"
        },
        "id": "cVlyjzJxrXxj",
        "outputId": "3a06590b-be84-4041-af31-e5f5ac99739a"
      },
      "execution_count": 207,
      "outputs": [
        {
          "output_type": "stream",
          "name": "stdout",
          "text": [
            "+---+--------+----+--------+------+----+-----+-------------+\n",
            "|day| outlook|temp|humidity|  wind|play|hours|hours_imputed|\n",
            "+---+--------+----+--------+------+----+-----+-------------+\n",
            "| D3|Overcast| Hot|    High|  Weak| Yes|   10|           10|\n",
            "| D5|    Rain|Cool|  Normal|  Weak| Yes|   18|           18|\n",
            "| D6|    Rain|Cool|  Normal|Strong|  No|   15|           15|\n",
            "| D9|   Sunny|Cool|  Normal|  Weak| Yes|   12|           12|\n",
            "|D10|    Rain|Mild|  Normal|  Weak| Yes|   11|           11|\n",
            "+---+--------+----+--------+------+----+-----+-------------+\n",
            "\n"
          ]
        }
      ]
    },
    {
      "cell_type": "code",
      "source": [
        "df_spark1.filter(~(df_spark1['hours'] >= 10) ).show()"
      ],
      "metadata": {
        "colab": {
          "base_uri": "https://localhost:8080/"
        },
        "id": "IvUjDvFxtbQQ",
        "outputId": "b036fcca-2307-46d1-b267-069187570252"
      },
      "execution_count": 208,
      "outputs": [
        {
          "output_type": "stream",
          "name": "stdout",
          "text": [
            "+---+--------+----+--------+------+----+-----+-------------+\n",
            "|day| outlook|temp|humidity|  wind|play|hours|hours_imputed|\n",
            "+---+--------+----+--------+------+----+-----+-------------+\n",
            "| D1|   Sunny| Hot|    High|  Weak|  No|    3|            3|\n",
            "| D2|   Sunny| Hot|    High|Strong|  No|    5|            5|\n",
            "| D4|    Rain|Mild|    High|  Weak| Yes|    4|            4|\n",
            "| D7|Overcast|Cool|  Normal|Strong| Yes|    7|            7|\n",
            "| D8|   Sunny|Mild|    High|  Weak|  No|    5|            5|\n",
            "|D11|   Sunny|Mild|  Normal|Strong| Yes|    6|            6|\n",
            "|D12|Overcast|Mild|    High|Strong| Yes|    6|            6|\n",
            "+---+--------+----+--------+------+----+-----+-------------+\n",
            "\n"
          ]
        }
      ]
    },
    {
      "cell_type": "code",
      "source": [],
      "metadata": {
        "id": "ik-sj3QititL"
      },
      "execution_count": null,
      "outputs": []
    }
  ]
}