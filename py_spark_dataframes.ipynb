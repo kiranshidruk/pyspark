{
  "nbformat": 4,
  "nbformat_minor": 0,
  "metadata": {
    "colab": {
      "provenance": []
    },
    "kernelspec": {
      "name": "python3",
      "display_name": "Python 3"
    },
    "language_info": {
      "name": "python"
    }
  },
  "cells": [
    {
      "cell_type": "markdown",
      "source": [
        "- PySpark Dataframe\n",
        "- Reading The Dataset\n",
        "- Checking the Datatypes of the Column(Schema)\n",
        "- Selecting Columns And Indexing\n",
        "- Check Describe option similar to Pandas\n",
        "- Adding Columns\n",
        "- Dropping columns\n",
        "- Renaming Columns"
      ],
      "metadata": {
        "id": "xeqmtGd_AWWe"
      }
    },
    {
      "cell_type": "code",
      "execution_count": 60,
      "metadata": {
        "id": "q4EzQrsm7TD7"
      },
      "outputs": [],
      "source": [
        "from pyspark.sql import SparkSession\n",
        "spark = SparkSession.builder.appName('Practise').getOrCreate()"
      ]
    },
    {
      "cell_type": "code",
      "source": [
        "spark"
      ],
      "metadata": {
        "colab": {
          "base_uri": "https://localhost:8080/",
          "height": 221
        },
        "id": "WIoJUD_n7aoY",
        "outputId": "e5852aca-c419-46ff-d855-3384c15f7cdd"
      },
      "execution_count": 61,
      "outputs": [
        {
          "output_type": "execute_result",
          "data": {
            "text/plain": [
              "<pyspark.sql.session.SparkSession at 0x7df3843540b0>"
            ],
            "text/html": [
              "\n",
              "            <div>\n",
              "                <p><b>SparkSession - in-memory</b></p>\n",
              "                \n",
              "        <div>\n",
              "            <p><b>SparkContext</b></p>\n",
              "\n",
              "            <p><a href=\"http://a7f9d96a2cae:4040\">Spark UI</a></p>\n",
              "\n",
              "            <dl>\n",
              "              <dt>Version</dt>\n",
              "                <dd><code>v3.5.1</code></dd>\n",
              "              <dt>Master</dt>\n",
              "                <dd><code>local[*]</code></dd>\n",
              "              <dt>AppName</dt>\n",
              "                <dd><code>Practise</code></dd>\n",
              "            </dl>\n",
              "        </div>\n",
              "        \n",
              "            </div>\n",
              "        "
            ]
          },
          "metadata": {},
          "execution_count": 61
        }
      ]
    },
    {
      "cell_type": "code",
      "source": [
        "df_spark = spark.read.option('header','true').csv('play_tennis.csv', inferSchema = True)"
      ],
      "metadata": {
        "id": "33PbII3f7gow"
      },
      "execution_count": 62,
      "outputs": []
    },
    {
      "cell_type": "code",
      "source": [
        "df_spark"
      ],
      "metadata": {
        "colab": {
          "base_uri": "https://localhost:8080/"
        },
        "id": "lmfTNSnq72rb",
        "outputId": "876cc9ab-ab80-4ca7-eb54-46fc0a90867a"
      },
      "execution_count": 63,
      "outputs": [
        {
          "output_type": "execute_result",
          "data": {
            "text/plain": [
              "DataFrame[day: string, outlook: string, temp: string, humidity: string, wind: string, play: string]"
            ]
          },
          "metadata": {},
          "execution_count": 63
        }
      ]
    },
    {
      "cell_type": "code",
      "source": [
        "df_spark.printSchema()"
      ],
      "metadata": {
        "colab": {
          "base_uri": "https://localhost:8080/"
        },
        "id": "f2gKEcK975cu",
        "outputId": "87c54f67-01ee-4774-add8-c1d7d0148081"
      },
      "execution_count": 64,
      "outputs": [
        {
          "output_type": "stream",
          "name": "stdout",
          "text": [
            "root\n",
            " |-- day: string (nullable = true)\n",
            " |-- outlook: string (nullable = true)\n",
            " |-- temp: string (nullable = true)\n",
            " |-- humidity: string (nullable = true)\n",
            " |-- wind: string (nullable = true)\n",
            " |-- play: string (nullable = true)\n",
            "\n"
          ]
        }
      ]
    },
    {
      "cell_type": "code",
      "source": [
        "type(df_spark)"
      ],
      "metadata": {
        "colab": {
          "base_uri": "https://localhost:8080/",
          "height": 187
        },
        "id": "lWPEBwOb79-6",
        "outputId": "ed324f00-2d7f-48c8-ef14-add68fb618ba"
      },
      "execution_count": 65,
      "outputs": [
        {
          "output_type": "execute_result",
          "data": {
            "text/plain": [
              "pyspark.sql.dataframe.DataFrame"
            ],
            "text/html": [
              "<div style=\"max-width:800px; border: 1px solid var(--colab-border-color);\"><style>\n",
              "      pre.function-repr-contents {\n",
              "        overflow-x: auto;\n",
              "        padding: 8px 12px;\n",
              "        max-height: 500px;\n",
              "      }\n",
              "\n",
              "      pre.function-repr-contents.function-repr-contents-collapsed {\n",
              "        cursor: pointer;\n",
              "        max-height: 100px;\n",
              "      }\n",
              "    </style>\n",
              "    <pre style=\"white-space: initial; background:\n",
              "         var(--colab-secondary-surface-color); padding: 8px 12px;\n",
              "         border-bottom: 1px solid var(--colab-border-color);\"><b>pyspark.sql.dataframe.DataFrame</b><br/>def __init__(jdf: JavaObject, sql_ctx: Union[&#x27;SQLContext&#x27;, &#x27;SparkSession&#x27;])</pre><pre class=\"function-repr-contents function-repr-contents-collapsed\" style=\"\"><a class=\"filepath\" style=\"display:none\" href=\"#\">/usr/local/lib/python3.12/dist-packages/pyspark/sql/dataframe.py</a>A distributed collection of data grouped into named columns.\n",
              "\n",
              ".. versionadded:: 1.3.0\n",
              "\n",
              ".. versionchanged:: 3.4.0\n",
              "    Supports Spark Connect.\n",
              "\n",
              "Examples\n",
              "--------\n",
              "A :class:`DataFrame` is equivalent to a relational table in Spark SQL,\n",
              "and can be created using various functions in :class:`SparkSession`:\n",
              "\n",
              "&gt;&gt;&gt; people = spark.createDataFrame([\n",
              "...     {&quot;deptId&quot;: 1, &quot;age&quot;: 40, &quot;name&quot;: &quot;Hyukjin Kwon&quot;, &quot;gender&quot;: &quot;M&quot;, &quot;salary&quot;: 50},\n",
              "...     {&quot;deptId&quot;: 1, &quot;age&quot;: 50, &quot;name&quot;: &quot;Takuya Ueshin&quot;, &quot;gender&quot;: &quot;M&quot;, &quot;salary&quot;: 100},\n",
              "...     {&quot;deptId&quot;: 2, &quot;age&quot;: 60, &quot;name&quot;: &quot;Xinrong Meng&quot;, &quot;gender&quot;: &quot;F&quot;, &quot;salary&quot;: 150},\n",
              "...     {&quot;deptId&quot;: 3, &quot;age&quot;: 20, &quot;name&quot;: &quot;Haejoon Lee&quot;, &quot;gender&quot;: &quot;M&quot;, &quot;salary&quot;: 200}\n",
              "... ])\n",
              "\n",
              "Once created, it can be manipulated using the various domain-specific-language\n",
              "(DSL) functions defined in: :class:`DataFrame`, :class:`Column`.\n",
              "\n",
              "To select a column from the :class:`DataFrame`, use the apply method:\n",
              "\n",
              "&gt;&gt;&gt; age_col = people.age\n",
              "\n",
              "A more concrete example:\n",
              "\n",
              "&gt;&gt;&gt; # To create DataFrame using SparkSession\n",
              "... department = spark.createDataFrame([\n",
              "...     {&quot;id&quot;: 1, &quot;name&quot;: &quot;PySpark&quot;},\n",
              "...     {&quot;id&quot;: 2, &quot;name&quot;: &quot;ML&quot;},\n",
              "...     {&quot;id&quot;: 3, &quot;name&quot;: &quot;Spark SQL&quot;}\n",
              "... ])\n",
              "\n",
              "&gt;&gt;&gt; people.filter(people.age &gt; 30).join(\n",
              "...     department, people.deptId == department.id).groupBy(\n",
              "...     department.name, &quot;gender&quot;).agg({&quot;salary&quot;: &quot;avg&quot;, &quot;age&quot;: &quot;max&quot;}).show()\n",
              "+-------+------+-----------+--------+\n",
              "|   name|gender|avg(salary)|max(age)|\n",
              "+-------+------+-----------+--------+\n",
              "|     ML|     F|      150.0|      60|\n",
              "|PySpark|     M|       75.0|      50|\n",
              "+-------+------+-----------+--------+\n",
              "\n",
              "Notes\n",
              "-----\n",
              "A DataFrame should only be created as described above. It should not be directly\n",
              "created via using the constructor.</pre>\n",
              "      <script>\n",
              "      if (google.colab.kernel.accessAllowed && google.colab.files && google.colab.files.view) {\n",
              "        for (const element of document.querySelectorAll('.filepath')) {\n",
              "          element.style.display = 'block'\n",
              "          element.onclick = (event) => {\n",
              "            event.preventDefault();\n",
              "            event.stopPropagation();\n",
              "            google.colab.files.view(element.textContent, 80);\n",
              "          };\n",
              "        }\n",
              "      }\n",
              "      for (const element of document.querySelectorAll('.function-repr-contents')) {\n",
              "        element.onclick = (event) => {\n",
              "          event.preventDefault();\n",
              "          event.stopPropagation();\n",
              "          element.classList.toggle('function-repr-contents-collapsed');\n",
              "        };\n",
              "      }\n",
              "      </script>\n",
              "      </div>"
            ]
          },
          "metadata": {},
          "execution_count": 65
        }
      ]
    },
    {
      "cell_type": "code",
      "source": [
        "df_spark.columns"
      ],
      "metadata": {
        "colab": {
          "base_uri": "https://localhost:8080/"
        },
        "id": "0buggQCs84_W",
        "outputId": "195c23bb-879d-4b42-e017-c0f98f5ca419"
      },
      "execution_count": 66,
      "outputs": [
        {
          "output_type": "execute_result",
          "data": {
            "text/plain": [
              "['day', 'outlook', 'temp', 'humidity', 'wind', 'play']"
            ]
          },
          "metadata": {},
          "execution_count": 66
        }
      ]
    },
    {
      "cell_type": "code",
      "source": [
        "df_spark.head(3)"
      ],
      "metadata": {
        "colab": {
          "base_uri": "https://localhost:8080/"
        },
        "id": "hUf_bd2-9DmP",
        "outputId": "870d7b6b-e5d8-4efa-d36f-15a71e78ccc7"
      },
      "execution_count": 67,
      "outputs": [
        {
          "output_type": "execute_result",
          "data": {
            "text/plain": [
              "[Row(day='D1', outlook='Sunny', temp='Hot', humidity='High', wind='Weak', play='No'),\n",
              " Row(day='D2', outlook='Sunny', temp='Hot', humidity='High', wind='Strong', play='No'),\n",
              " Row(day='D3', outlook='Overcast', temp='Hot', humidity='High', wind='Weak', play='Yes')]"
            ]
          },
          "metadata": {},
          "execution_count": 67
        }
      ]
    },
    {
      "cell_type": "code",
      "source": [
        "df_spark.show()"
      ],
      "metadata": {
        "colab": {
          "base_uri": "https://localhost:8080/"
        },
        "id": "wnUzJV0R9GDL",
        "outputId": "8edcbd25-6784-41c3-b164-fee3b6986a63"
      },
      "execution_count": 68,
      "outputs": [
        {
          "output_type": "stream",
          "name": "stdout",
          "text": [
            "+---+--------+----+--------+------+----+\n",
            "|day| outlook|temp|humidity|  wind|play|\n",
            "+---+--------+----+--------+------+----+\n",
            "| D1|   Sunny| Hot|    High|  Weak|  No|\n",
            "| D2|   Sunny| Hot|    High|Strong|  No|\n",
            "| D3|Overcast| Hot|    High|  Weak| Yes|\n",
            "| D4|    Rain|Mild|    High|  Weak| Yes|\n",
            "| D5|    Rain|Cool|  Normal|  Weak| Yes|\n",
            "| D6|    Rain|Cool|  Normal|Strong|  No|\n",
            "| D7|Overcast|Cool|  Normal|Strong| Yes|\n",
            "| D8|   Sunny|Mild|    High|  Weak|  No|\n",
            "| D9|   Sunny|Cool|  Normal|  Weak| Yes|\n",
            "|D10|    Rain|Mild|  Normal|  Weak| Yes|\n",
            "|D11|   Sunny|Mild|  Normal|Strong| Yes|\n",
            "|D12|Overcast|Mild|    High|Strong| Yes|\n",
            "|D13|Overcast| Hot|  Normal|  Weak| Yes|\n",
            "|D14|    Rain|Mild|    High|Strong|  No|\n",
            "+---+--------+----+--------+------+----+\n",
            "\n"
          ]
        }
      ]
    },
    {
      "cell_type": "code",
      "source": [
        "df_spark.select(['outlook', 'wind']).show()\n",
        "\n",
        "#  select multiple rows"
      ],
      "metadata": {
        "colab": {
          "base_uri": "https://localhost:8080/"
        },
        "id": "Luos0fzI9O06",
        "outputId": "5a86b317-f90c-445e-9ae2-8782b7fb5553"
      },
      "execution_count": 69,
      "outputs": [
        {
          "output_type": "stream",
          "name": "stdout",
          "text": [
            "+--------+------+\n",
            "| outlook|  wind|\n",
            "+--------+------+\n",
            "|   Sunny|  Weak|\n",
            "|   Sunny|Strong|\n",
            "|Overcast|  Weak|\n",
            "|    Rain|  Weak|\n",
            "|    Rain|  Weak|\n",
            "|    Rain|Strong|\n",
            "|Overcast|Strong|\n",
            "|   Sunny|  Weak|\n",
            "|   Sunny|  Weak|\n",
            "|    Rain|  Weak|\n",
            "|   Sunny|Strong|\n",
            "|Overcast|Strong|\n",
            "|Overcast|  Weak|\n",
            "|    Rain|Strong|\n",
            "+--------+------+\n",
            "\n"
          ]
        }
      ]
    },
    {
      "cell_type": "code",
      "source": [
        "df_spark.dtypes"
      ],
      "metadata": {
        "colab": {
          "base_uri": "https://localhost:8080/"
        },
        "id": "pOmu25-E9Y8-",
        "outputId": "dbe70cc6-5b55-4a8a-c16e-50a7aa81d4bb"
      },
      "execution_count": 70,
      "outputs": [
        {
          "output_type": "execute_result",
          "data": {
            "text/plain": [
              "[('day', 'string'),\n",
              " ('outlook', 'string'),\n",
              " ('temp', 'string'),\n",
              " ('humidity', 'string'),\n",
              " ('wind', 'string'),\n",
              " ('play', 'string')]"
            ]
          },
          "metadata": {},
          "execution_count": 70
        }
      ]
    },
    {
      "cell_type": "code",
      "source": [
        "df_spark.describe().show()"
      ],
      "metadata": {
        "colab": {
          "base_uri": "https://localhost:8080/"
        },
        "id": "EYLOuOOg92_q",
        "outputId": "474a3bf5-622d-4e5f-fd30-fbd29ca4607d"
      },
      "execution_count": 71,
      "outputs": [
        {
          "output_type": "stream",
          "name": "stdout",
          "text": [
            "+-------+----+--------+----+--------+------+----+\n",
            "|summary| day| outlook|temp|humidity|  wind|play|\n",
            "+-------+----+--------+----+--------+------+----+\n",
            "|  count|  14|      14|  14|      14|    14|  14|\n",
            "|   mean|NULL|    NULL|NULL|    NULL|  NULL|NULL|\n",
            "| stddev|NULL|    NULL|NULL|    NULL|  NULL|NULL|\n",
            "|    min|  D1|Overcast|Cool|    High|Strong|  No|\n",
            "|    max|  D9|   Sunny|Mild|  Normal|  Weak| Yes|\n",
            "+-------+----+--------+----+--------+------+----+\n",
            "\n"
          ]
        }
      ]
    },
    {
      "cell_type": "code",
      "source": [
        "df_spark = df_spark.withColumn('temp_updated', df_spark['temp'])\n",
        "\n",
        "#  for adding columns"
      ],
      "metadata": {
        "id": "bmsV64XR9_u0"
      },
      "execution_count": 72,
      "outputs": []
    },
    {
      "cell_type": "code",
      "source": [
        "df_spark.show()"
      ],
      "metadata": {
        "colab": {
          "base_uri": "https://localhost:8080/"
        },
        "id": "NOygkNJJ-muG",
        "outputId": "05f186e1-ee57-4329-c912-771b3a5c8df0"
      },
      "execution_count": 74,
      "outputs": [
        {
          "output_type": "stream",
          "name": "stdout",
          "text": [
            "+---+--------+----+--------+------+----+------------+\n",
            "|day| outlook|temp|humidity|  wind|play|temp_updated|\n",
            "+---+--------+----+--------+------+----+------------+\n",
            "| D1|   Sunny| Hot|    High|  Weak|  No|         Hot|\n",
            "| D2|   Sunny| Hot|    High|Strong|  No|         Hot|\n",
            "| D3|Overcast| Hot|    High|  Weak| Yes|         Hot|\n",
            "| D4|    Rain|Mild|    High|  Weak| Yes|        Mild|\n",
            "| D5|    Rain|Cool|  Normal|  Weak| Yes|        Cool|\n",
            "| D6|    Rain|Cool|  Normal|Strong|  No|        Cool|\n",
            "| D7|Overcast|Cool|  Normal|Strong| Yes|        Cool|\n",
            "| D8|   Sunny|Mild|    High|  Weak|  No|        Mild|\n",
            "| D9|   Sunny|Cool|  Normal|  Weak| Yes|        Cool|\n",
            "|D10|    Rain|Mild|  Normal|  Weak| Yes|        Mild|\n",
            "|D11|   Sunny|Mild|  Normal|Strong| Yes|        Mild|\n",
            "|D12|Overcast|Mild|    High|Strong| Yes|        Mild|\n",
            "|D13|Overcast| Hot|  Normal|  Weak| Yes|         Hot|\n",
            "|D14|    Rain|Mild|    High|Strong|  No|        Mild|\n",
            "+---+--------+----+--------+------+----+------------+\n",
            "\n"
          ]
        }
      ]
    },
    {
      "cell_type": "code",
      "source": [
        "#  for removing the colomns\n",
        "\n",
        "df_spark = df_spark.drop('temp_updated')"
      ],
      "metadata": {
        "id": "c3VBsKMG-_nh"
      },
      "execution_count": 75,
      "outputs": []
    },
    {
      "cell_type": "code",
      "source": [
        "df_spark.show()"
      ],
      "metadata": {
        "colab": {
          "base_uri": "https://localhost:8080/"
        },
        "id": "WQyyR0eJ_weC",
        "outputId": "b42846d2-bb46-4804-9db0-648841b9858a"
      },
      "execution_count": 76,
      "outputs": [
        {
          "output_type": "stream",
          "name": "stdout",
          "text": [
            "+---+--------+----+--------+------+----+\n",
            "|day| outlook|temp|humidity|  wind|play|\n",
            "+---+--------+----+--------+------+----+\n",
            "| D1|   Sunny| Hot|    High|  Weak|  No|\n",
            "| D2|   Sunny| Hot|    High|Strong|  No|\n",
            "| D3|Overcast| Hot|    High|  Weak| Yes|\n",
            "| D4|    Rain|Mild|    High|  Weak| Yes|\n",
            "| D5|    Rain|Cool|  Normal|  Weak| Yes|\n",
            "| D6|    Rain|Cool|  Normal|Strong|  No|\n",
            "| D7|Overcast|Cool|  Normal|Strong| Yes|\n",
            "| D8|   Sunny|Mild|    High|  Weak|  No|\n",
            "| D9|   Sunny|Cool|  Normal|  Weak| Yes|\n",
            "|D10|    Rain|Mild|  Normal|  Weak| Yes|\n",
            "|D11|   Sunny|Mild|  Normal|Strong| Yes|\n",
            "|D12|Overcast|Mild|    High|Strong| Yes|\n",
            "|D13|Overcast| Hot|  Normal|  Weak| Yes|\n",
            "|D14|    Rain|Mild|    High|Strong|  No|\n",
            "+---+--------+----+--------+------+----+\n",
            "\n"
          ]
        }
      ]
    },
    {
      "cell_type": "code",
      "source": [
        "#  renaming colomns\n",
        "\n",
        "df_spark.withColumnRenamed('outlook', 'weather').show()"
      ],
      "metadata": {
        "colab": {
          "base_uri": "https://localhost:8080/"
        },
        "id": "yoNNnJXA_xum",
        "outputId": "03045024-5fdc-42d3-cf1b-928e988eaa1d"
      },
      "execution_count": 77,
      "outputs": [
        {
          "output_type": "stream",
          "name": "stdout",
          "text": [
            "+---+--------+----+--------+------+----+\n",
            "|day| weather|temp|humidity|  wind|play|\n",
            "+---+--------+----+--------+------+----+\n",
            "| D1|   Sunny| Hot|    High|  Weak|  No|\n",
            "| D2|   Sunny| Hot|    High|Strong|  No|\n",
            "| D3|Overcast| Hot|    High|  Weak| Yes|\n",
            "| D4|    Rain|Mild|    High|  Weak| Yes|\n",
            "| D5|    Rain|Cool|  Normal|  Weak| Yes|\n",
            "| D6|    Rain|Cool|  Normal|Strong|  No|\n",
            "| D7|Overcast|Cool|  Normal|Strong| Yes|\n",
            "| D8|   Sunny|Mild|    High|  Weak|  No|\n",
            "| D9|   Sunny|Cool|  Normal|  Weak| Yes|\n",
            "|D10|    Rain|Mild|  Normal|  Weak| Yes|\n",
            "|D11|   Sunny|Mild|  Normal|Strong| Yes|\n",
            "|D12|Overcast|Mild|    High|Strong| Yes|\n",
            "|D13|Overcast| Hot|  Normal|  Weak| Yes|\n",
            "|D14|    Rain|Mild|    High|Strong|  No|\n",
            "+---+--------+----+--------+------+----+\n",
            "\n"
          ]
        }
      ]
    },
    {
      "cell_type": "code",
      "source": [],
      "metadata": {
        "id": "FsQC-yGyAI1V"
      },
      "execution_count": null,
      "outputs": []
    }
  ]
}